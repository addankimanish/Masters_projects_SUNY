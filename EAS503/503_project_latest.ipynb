{
 "cells": [
  {
   "cell_type": "markdown",
   "metadata": {},
   "source": [
    "# Group-14 : 911 Call Analysis"
   ]
  },
  {
   "cell_type": "code",
   "execution_count": 92,
   "metadata": {},
   "outputs": [],
   "source": [
    "#pip install jupyter_dashboards"
   ]
  },
  {
   "cell_type": "code",
   "execution_count": 93,
   "metadata": {},
   "outputs": [],
   "source": [
    "#conda install jupyter_dashboards -c conda-forge"
   ]
  },
  {
   "cell_type": "markdown",
   "metadata": {},
   "source": [
    "## Install essential packages"
   ]
  },
  {
   "cell_type": "code",
   "execution_count": 94,
   "metadata": {
    "colab": {
     "base_uri": "https://localhost:8080/"
    },
    "id": "t_RgwA_VVFgA",
    "outputId": "3b170c37-9293-440a-c75a-a1f1e79fe1e6"
   },
   "outputs": [
    {
     "name": "stdout",
     "output_type": "stream",
     "text": [
      "Requirement already satisfied: db-sqlite3 in /Users/manish.addanki/opt/anaconda3/lib/python3.8/site-packages (0.0.1)\r\n",
      "Requirement already satisfied: db in /Users/manish.addanki/opt/anaconda3/lib/python3.8/site-packages (from db-sqlite3) (0.1.1)\r\n",
      "Requirement already satisfied: antiorm in /Users/manish.addanki/opt/anaconda3/lib/python3.8/site-packages (from db->db-sqlite3) (1.2.1)\r\n"
     ]
    }
   ],
   "source": [
    "#Package for sqlite3 (database)\n",
    "!pip install db-sqlite3"
   ]
  },
  {
   "cell_type": "code",
   "execution_count": 95,
   "metadata": {},
   "outputs": [
    {
     "name": "stdout",
     "output_type": "stream",
     "text": [
      "Requirement already satisfied: folium in /Users/manish.addanki/opt/anaconda3/lib/python3.8/site-packages (0.12.1.post1)\n",
      "Requirement already satisfied: jinja2>=2.9 in /Users/manish.addanki/opt/anaconda3/lib/python3.8/site-packages (from folium) (2.11.3)\n",
      "Requirement already satisfied: numpy in /Users/manish.addanki/opt/anaconda3/lib/python3.8/site-packages (from folium) (1.20.1)\n",
      "Requirement already satisfied: branca>=0.3.0 in /Users/manish.addanki/opt/anaconda3/lib/python3.8/site-packages (from folium) (0.4.2)\n",
      "Requirement already satisfied: requests in /Users/manish.addanki/opt/anaconda3/lib/python3.8/site-packages (from folium) (2.25.1)\n",
      "Requirement already satisfied: MarkupSafe>=0.23 in /Users/manish.addanki/opt/anaconda3/lib/python3.8/site-packages (from jinja2>=2.9->folium) (1.1.1)\n",
      "Requirement already satisfied: urllib3<1.27,>=1.21.1 in /Users/manish.addanki/opt/anaconda3/lib/python3.8/site-packages (from requests->folium) (1.26.4)\n",
      "Requirement already satisfied: certifi>=2017.4.17 in /Users/manish.addanki/opt/anaconda3/lib/python3.8/site-packages (from requests->folium) (2020.12.5)\n",
      "Requirement already satisfied: chardet<5,>=3.0.2 in /Users/manish.addanki/opt/anaconda3/lib/python3.8/site-packages (from requests->folium) (4.0.0)\n",
      "Requirement already satisfied: idna<3,>=2.5 in /Users/manish.addanki/opt/anaconda3/lib/python3.8/site-packages (from requests->folium) (2.10)\n"
     ]
    }
   ],
   "source": [
    "#Package for folium (map visualization)\n",
    "!pip install folium"
   ]
  },
  {
   "cell_type": "markdown",
   "metadata": {},
   "source": [
    "## Importing the required packages"
   ]
  },
  {
   "cell_type": "code",
   "execution_count": 96,
   "metadata": {
    "id": "x0f4eApXVjyl"
   },
   "outputs": [],
   "source": [
    "from IPython.display import display, HTML\n",
    "import matplotlib.pyplot as plt\n",
    "from datetime import datetime as dm\n",
    "import pandas as pd\n",
    "import sqlite3\n",
    "from sqlite3 import Error\n",
    "import folium as fm"
   ]
  },
  {
   "cell_type": "markdown",
   "metadata": {},
   "source": [
    "## Help functions "
   ]
  },
  {
   "cell_type": "code",
   "execution_count": 97,
   "metadata": {
    "id": "JxZEuyrpYxJu"
   },
   "outputs": [],
   "source": [
    "#Function to connect to database file\n",
    "def create_connection(db_file, delete_db=False):\n",
    "    import os\n",
    "    if delete_db and os.path.exists(db_file):\n",
    "        os.remove(db_file)\n",
    "\n",
    "    conn = None\n",
    "    try:\n",
    "        conn = sqlite3.connect(db_file)\n",
    "        conn.execute(\"PRAGMA foreign_keys = 1\")\n",
    "    except Error as e:\n",
    "        print(e)\n",
    "\n",
    "    return conn\n",
    "\n",
    "#Function To create table\n",
    "def create_table(conn, create_table_sql, drop_table_name=None):\n",
    "    \n",
    "    if drop_table_name: # You can optionally pass drop_table_name to drop the table. \n",
    "        try:\n",
    "            c = conn.cursor()\n",
    "            c.execute(\"\"\"DROP TABLE IF EXISTS %s\"\"\" % (drop_table_name))\n",
    "        except Error as e:\n",
    "            print(e)\n",
    "    \n",
    "    try:\n",
    "        c = conn.cursor()\n",
    "        c.execute(create_table_sql)\n",
    "    except Error as e:\n",
    "        print(e)\n",
    "#Function To execute the sql queries      \n",
    "def execute_sql_statement(sql_statement, conn):\n",
    "    cur = conn.cursor()\n",
    "    cur.execute(sql_statement)\n",
    "\n",
    "    rows = cur.fetchall()\n",
    "\n",
    "    return rows\n",
    "\n",
    "#To beautify the output dataframe\n",
    "def beautify_table(df,bgcolor='#fff5eb'):\n",
    "    \n",
    "    return df.style.set_table_styles(\n",
    "    [{'selector': 'th',\n",
    "      'props': [('background', '#420929'), \n",
    "                ('color', 'white'),\n",
    "                ('font-family', 'verdana')]},\n",
    "     {'selector': 'td',\n",
    "      'props': [('border', '2px solid black')\n",
    "               #,('background','#fff5eb')\n",
    "               ]\n",
    "      }\n",
    "\n",
    "    ]\n",
    "    ).hide_index().background_gradient(cmap='Blues')"
   ]
  },
  {
   "cell_type": "code",
   "execution_count": 98,
   "metadata": {},
   "outputs": [],
   "source": [
    "#Initial connection and also reset the db\n",
    "conn = create_connection('911data.db',True)"
   ]
  },
  {
   "cell_type": "markdown",
   "metadata": {},
   "source": [
    "### To Create and insert data for TimeOfDay table"
   ]
  },
  {
   "cell_type": "code",
   "execution_count": 103,
   "metadata": {
    "colab": {
     "base_uri": "https://localhost:8080/"
    },
    "id": "qI9P4GkXZGR-",
    "outputId": "2f979cf7-3284-425e-be29-b8bf12a038af"
   },
   "outputs": [],
   "source": [
    "def step1_create_timeofday_table(data_filename, normalized_database_filename):\n",
    "    # Inputs: Name of the data and normalized database filename\n",
    "    # Output: dataframe to show five of the inserted rows\n",
    "    conn = create_connection('911data.db') \n",
    "    l = []\n",
    "    #[*range(21, 24), *range(0, 5)]\n",
    "    time_details = {range(5,12):('Morning',5,11),range(12,17):('Afternoon',12,16),range(17,21):('Evening',17,20),range(21, 24):('Night',21,4),range(0, 5):('Night',21,4)}\n",
    "    with open('911.csv','r') as f:\n",
    "        for i in f:\n",
    "            if i.split(',')[5] != 'timeStamp':\n",
    "                d = i.split(',')[5]\n",
    "                for k in time_details.keys():\n",
    "                    if int(d.strip().split(' ')[1].split(':')[0]) in k: \n",
    "                        details = time_details[k]\n",
    "                        if details not in l:\n",
    "                            l.append(details)\n",
    "                        break         \n",
    "    f.close()\n",
    "    sort_func = lambda s: s[1]\n",
    "    l = sorted(l,key = sort_func)\n",
    "\n",
    "    with conn:\n",
    "        create_query = 'CREATE TABLE IF NOT EXISTS TimeOfDay (TimeOfDayID Integer NOT NULL PRIMARY KEY, TimeOfDay text NOT NULL, StartTime integer NOT NULL, EndTime integer NOT NULL);'\n",
    "        create_table(conn, create_query, drop_table_name='TimeOfDay')\n",
    "        insert_query = \"INSERT INTO TimeOfDay (TimeOfDay,StartTime,EndTime) VALUES (?,?,?)\"\n",
    "        cur_region = conn.cursor()\n",
    "        cur_region.executemany(insert_query,l)\n",
    "    #r = execute_sql_statement('SELECT * FROM TimeOfDay',conn)\n",
    "    df = pd.read_sql_query('SELECT * FROM TimeOfDay', conn)\n",
    "    df = df.head(5)\n",
    "    conn.commit()\n",
    "    conn.close()\n",
    "    return df"
   ]
  },
  {
   "cell_type": "code",
   "execution_count": 132,
   "metadata": {},
   "outputs": [
    {
     "data": {
      "text/html": [
       "<style  type=\"text/css\" >\n",
       "    #T_554ac_ th {\n",
       "          background: #420929;\n",
       "          color: white;\n",
       "          font-family: verdana;\n",
       "    }    #T_554ac_ td {\n",
       "          border: 2px solid black;\n",
       "    }#T_554ac_row0_col0,#T_554ac_row0_col2,#T_554ac_row3_col3{\n",
       "            background-color:  #f7fbff;\n",
       "            color:  #000000;\n",
       "        }#T_554ac_row0_col3,#T_554ac_row1_col2{\n",
       "            background-color:  #84bcdb;\n",
       "            color:  #000000;\n",
       "        }#T_554ac_row1_col0{\n",
       "            background-color:  #abd0e6;\n",
       "            color:  #000000;\n",
       "        }#T_554ac_row1_col3,#T_554ac_row2_col2{\n",
       "            background-color:  #2070b4;\n",
       "            color:  #f1f1f1;\n",
       "        }#T_554ac_row2_col0{\n",
       "            background-color:  #3787c0;\n",
       "            color:  #000000;\n",
       "        }#T_554ac_row2_col3,#T_554ac_row3_col0,#T_554ac_row3_col2{\n",
       "            background-color:  #08306b;\n",
       "            color:  #f1f1f1;\n",
       "        }</style><table id=\"T_554ac_\" ><thead>    <tr>        <th class=\"col_heading level0 col0\" >TimeOfDayID</th>        <th class=\"col_heading level0 col1\" >TimeOfDay</th>        <th class=\"col_heading level0 col2\" >StartTime</th>        <th class=\"col_heading level0 col3\" >EndTime</th>    </tr></thead><tbody>\n",
       "                <tr>\n",
       "                                <td id=\"T_554ac_row0_col0\" class=\"data row0 col0\" >1</td>\n",
       "                        <td id=\"T_554ac_row0_col1\" class=\"data row0 col1\" >Morning</td>\n",
       "                        <td id=\"T_554ac_row0_col2\" class=\"data row0 col2\" >5</td>\n",
       "                        <td id=\"T_554ac_row0_col3\" class=\"data row0 col3\" >11</td>\n",
       "            </tr>\n",
       "            <tr>\n",
       "                                <td id=\"T_554ac_row1_col0\" class=\"data row1 col0\" >2</td>\n",
       "                        <td id=\"T_554ac_row1_col1\" class=\"data row1 col1\" >Afternoon</td>\n",
       "                        <td id=\"T_554ac_row1_col2\" class=\"data row1 col2\" >12</td>\n",
       "                        <td id=\"T_554ac_row1_col3\" class=\"data row1 col3\" >16</td>\n",
       "            </tr>\n",
       "            <tr>\n",
       "                                <td id=\"T_554ac_row2_col0\" class=\"data row2 col0\" >3</td>\n",
       "                        <td id=\"T_554ac_row2_col1\" class=\"data row2 col1\" >Evening</td>\n",
       "                        <td id=\"T_554ac_row2_col2\" class=\"data row2 col2\" >17</td>\n",
       "                        <td id=\"T_554ac_row2_col3\" class=\"data row2 col3\" >20</td>\n",
       "            </tr>\n",
       "            <tr>\n",
       "                                <td id=\"T_554ac_row3_col0\" class=\"data row3 col0\" >4</td>\n",
       "                        <td id=\"T_554ac_row3_col1\" class=\"data row3 col1\" >Night</td>\n",
       "                        <td id=\"T_554ac_row3_col2\" class=\"data row3 col2\" >21</td>\n",
       "                        <td id=\"T_554ac_row3_col3\" class=\"data row3 col3\" >4</td>\n",
       "            </tr>\n",
       "    </tbody></table>"
      ],
      "text/plain": [
       "<pandas.io.formats.style.Styler at 0x7fcad2567460>"
      ]
     },
     "execution_count": 132,
     "metadata": {},
     "output_type": "execute_result"
    }
   ],
   "source": [
    "#Function call\n",
    "df = step1_create_timeofday_table('911.csv', '911data.db')\n",
    "#View the top inserted rows\n",
    "beautify_table(df)"
   ]
  },
  {
   "cell_type": "markdown",
   "metadata": {},
   "source": [
    "### To Create TimeOfDay Dictionary"
   ]
  },
  {
   "cell_type": "code",
   "execution_count": 135,
   "metadata": {
    "colab": {
     "base_uri": "https://localhost:8080/"
    },
    "id": "XbokPUKRlLgB",
    "outputId": "1b75d918-4109-4939-a6b4-b9e36a9754c3"
   },
   "outputs": [],
   "source": [
    "def step2_create_timeofday_dictionary(normalized_database_filename):\n",
    "    tod_dict = {}\n",
    "    conn = create_connection(normalized_database_filename)\n",
    "    sql_statement = \"Select * from TimeOfDay\"\n",
    "    df = execute_sql_statement(sql_statement,conn)\n",
    "    for row in df:\n",
    "        tod_dict[row[1]] = row[0];\n",
    "    conn.close()\n",
    "    return tod_dict"
   ]
  },
  {
   "cell_type": "code",
   "execution_count": 136,
   "metadata": {},
   "outputs": [
    {
     "data": {
      "text/plain": [
       "{'Morning': 1, 'Afternoon': 2, 'Evening': 3, 'Night': 4}"
      ]
     },
     "execution_count": 136,
     "metadata": {},
     "output_type": "execute_result"
    }
   ],
   "source": [
    "step2_create_timeofday_dictionary('911data.db')"
   ]
  },
  {
   "cell_type": "markdown",
   "metadata": {},
   "source": [
    "### To Create and insert data for Township table"
   ]
  },
  {
   "cell_type": "code",
   "execution_count": 146,
   "metadata": {
    "colab": {
     "base_uri": "https://localhost:8080/"
    },
    "id": "lbLKgErAsJo0",
    "outputId": "24014584-fe27-4745-ee82-11e9b26267b4"
   },
   "outputs": [],
   "source": [
    "def step3_create_township_table(data_filename,normalized_database_filename):\n",
    "    # Inputs: Name of the data and normalized database filename\n",
    "    # Output: dataframe to show five of the inserted rows\n",
    "    conn = create_connection(normalized_database_filename)\n",
    "    l1 = []\n",
    "    with open(data_filename,'r') as f1:\n",
    "        for i in f1:\n",
    "            if i.split(',')[6] != 'twp':\n",
    "                d = i.split(',')[6].strip()\n",
    "                if d != '':\n",
    "                    if (d,) not in l1:\n",
    "                        l1.append((d,))  \n",
    "    f1.close()\n",
    "    l1.sort()\n",
    "    with conn:\n",
    "        create_query = 'CREATE TABLE IF NOT EXISTS Township (TownshipID Integer NOT NULL PRIMARY KEY, TownshipName text NOT NULL);'\n",
    "        create_table(conn, create_query, drop_table_name='Township')\n",
    "        insert_query = \"INSERT INTO Township (TownshipName) VALUES (?)\"\n",
    "        cur_region = conn.cursor()\n",
    "        cur_region.executemany(insert_query,l1)\n",
    "    #r = execute_sql_statement('SELECT * FROM Township',conn)\n",
    "    df = pd.read_sql_query('SELECT * FROM Township', conn)\n",
    "    df = df.head(5);\n",
    "    conn.commit()\n",
    "    conn.close()\n",
    "    return df"
   ]
  },
  {
   "cell_type": "code",
   "execution_count": 147,
   "metadata": {},
   "outputs": [
    {
     "data": {
      "text/html": [
       "<style  type=\"text/css\" >\n",
       "    #T_f5b86_ th {\n",
       "          background: #420929;\n",
       "          color: white;\n",
       "          font-family: verdana;\n",
       "    }    #T_f5b86_ td {\n",
       "          border: 2px solid black;\n",
       "    }#T_f5b86_row0_col0{\n",
       "            background-color:  #f7fbff;\n",
       "            color:  #000000;\n",
       "        }#T_f5b86_row1_col0{\n",
       "            background-color:  #c6dbef;\n",
       "            color:  #000000;\n",
       "        }#T_f5b86_row2_col0{\n",
       "            background-color:  #6aaed6;\n",
       "            color:  #000000;\n",
       "        }#T_f5b86_row3_col0{\n",
       "            background-color:  #2070b4;\n",
       "            color:  #f1f1f1;\n",
       "        }#T_f5b86_row4_col0{\n",
       "            background-color:  #08306b;\n",
       "            color:  #f1f1f1;\n",
       "        }</style><table id=\"T_f5b86_\" ><thead>    <tr>        <th class=\"col_heading level0 col0\" >TownshipID</th>        <th class=\"col_heading level0 col1\" >TownshipName</th>    </tr></thead><tbody>\n",
       "                <tr>\n",
       "                                <td id=\"T_f5b86_row0_col0\" class=\"data row0 col0\" >1</td>\n",
       "                        <td id=\"T_f5b86_row0_col1\" class=\"data row0 col1\" >ABINGTON</td>\n",
       "            </tr>\n",
       "            <tr>\n",
       "                                <td id=\"T_f5b86_row1_col0\" class=\"data row1 col0\" >2</td>\n",
       "                        <td id=\"T_f5b86_row1_col1\" class=\"data row1 col1\" >AMBLER</td>\n",
       "            </tr>\n",
       "            <tr>\n",
       "                                <td id=\"T_f5b86_row2_col0\" class=\"data row2 col0\" >3</td>\n",
       "                        <td id=\"T_f5b86_row2_col1\" class=\"data row2 col1\" >BERKS COUNTY</td>\n",
       "            </tr>\n",
       "            <tr>\n",
       "                                <td id=\"T_f5b86_row3_col0\" class=\"data row3 col0\" >4</td>\n",
       "                        <td id=\"T_f5b86_row3_col1\" class=\"data row3 col1\" >BRIDGEPORT</td>\n",
       "            </tr>\n",
       "            <tr>\n",
       "                                <td id=\"T_f5b86_row4_col0\" class=\"data row4 col0\" >5</td>\n",
       "                        <td id=\"T_f5b86_row4_col1\" class=\"data row4 col1\" >BRYN ATHYN</td>\n",
       "            </tr>\n",
       "    </tbody></table>"
      ],
      "text/plain": [
       "<pandas.io.formats.style.Styler at 0x7fcad0841e80>"
      ]
     },
     "execution_count": 147,
     "metadata": {},
     "output_type": "execute_result"
    }
   ],
   "source": [
    "df = step3_create_township_table('911.csv', '911data.db')\n",
    "beautify_table(df)"
   ]
  },
  {
   "cell_type": "markdown",
   "metadata": {},
   "source": [
    "### To Create Township dictionary"
   ]
  },
  {
   "cell_type": "code",
   "execution_count": 148,
   "metadata": {
    "colab": {
     "base_uri": "https://localhost:8080/"
    },
    "id": "MgqLVLEAiRkl",
    "outputId": "5b12a4fd-7df0-42fe-f436-4705a8f91ab7"
   },
   "outputs": [],
   "source": [
    "def step4_create_township_dictionary(normalized_database_filename):    \n",
    "    twp_dict = {}\n",
    "    conn = create_connection(normalized_database_filename)\n",
    "    sql_statement = \"Select * from Township\"\n",
    "    df = execute_sql_statement(sql_statement,conn)\n",
    "    for row in df:\n",
    "        twp_dict[row[1]] = row[0];\n",
    "    conn.close()\n",
    "    return twp_dict"
   ]
  },
  {
   "cell_type": "code",
   "execution_count": 149,
   "metadata": {
    "id": "Z25PGhf7zmRj"
   },
   "outputs": [
    {
     "data": {
      "text/plain": [
       "{'ABINGTON': 1,\n",
       " 'AMBLER': 2,\n",
       " 'BERKS COUNTY': 3,\n",
       " 'BRIDGEPORT': 4,\n",
       " 'BRYN ATHYN': 5,\n",
       " 'BUCKS COUNTY': 6,\n",
       " 'CHELTENHAM': 7,\n",
       " 'CHESTER COUNTY': 8,\n",
       " 'COLLEGEVILLE': 9,\n",
       " 'CONSHOHOCKEN': 10,\n",
       " 'DELAWARE COUNTY': 11,\n",
       " 'DOUGLASS': 12,\n",
       " 'EAST GREENVILLE': 13,\n",
       " 'EAST NORRITON': 14,\n",
       " 'FRANCONIA': 15,\n",
       " 'GREEN LANE': 16,\n",
       " 'HATBORO': 17,\n",
       " 'HATFIELD BORO': 18,\n",
       " 'HATFIELD TOWNSHIP': 19,\n",
       " 'HORSHAM': 20,\n",
       " 'JENKINTOWN': 21,\n",
       " 'LANSDALE': 22,\n",
       " 'LEHIGH COUNTY': 23,\n",
       " 'LIMERICK': 24,\n",
       " 'LOWER FREDERICK': 25,\n",
       " 'LOWER GWYNEDD': 26,\n",
       " 'LOWER MERION': 27,\n",
       " 'LOWER MORELAND': 28,\n",
       " 'LOWER POTTSGROVE': 29,\n",
       " 'LOWER PROVIDENCE': 30,\n",
       " 'LOWER SALFORD': 31,\n",
       " 'MARLBOROUGH': 32,\n",
       " 'MONTGOMERY': 33,\n",
       " 'NARBERTH': 34,\n",
       " 'NEW HANOVER': 35,\n",
       " 'NORRISTOWN': 36,\n",
       " 'NORTH WALES': 37,\n",
       " 'PENNSBURG': 38,\n",
       " 'PERKIOMEN': 39,\n",
       " 'PHILA COUNTY': 40,\n",
       " 'PLYMOUTH': 41,\n",
       " 'POTTSTOWN': 42,\n",
       " 'RED HILL': 43,\n",
       " 'ROCKLEDGE': 44,\n",
       " 'ROYERSFORD': 45,\n",
       " 'SALFORD': 46,\n",
       " 'SCHWENKSVILLE': 47,\n",
       " 'SKIPPACK': 48,\n",
       " 'SOUDERTON': 49,\n",
       " 'SPRINGFIELD': 50,\n",
       " 'TELFORD': 51,\n",
       " 'TOWAMENCIN': 52,\n",
       " 'TRAPPE': 53,\n",
       " 'UPPER DUBLIN': 54,\n",
       " 'UPPER FREDERICK': 55,\n",
       " 'UPPER GWYNEDD': 56,\n",
       " 'UPPER HANOVER': 57,\n",
       " 'UPPER MERION': 58,\n",
       " 'UPPER MORELAND': 59,\n",
       " 'UPPER POTTSGROVE': 60,\n",
       " 'UPPER PROVIDENCE': 61,\n",
       " 'UPPER SALFORD': 62,\n",
       " 'WEST CONSHOHOCKEN': 63,\n",
       " 'WEST NORRITON': 64,\n",
       " 'WEST POTTSGROVE': 65,\n",
       " 'WHITEMARSH': 66,\n",
       " 'WHITPAIN': 67,\n",
       " 'WORCESTER': 68}"
      ]
     },
     "execution_count": 149,
     "metadata": {},
     "output_type": "execute_result"
    }
   ],
   "source": [
    "step4_create_township_dictionary('911data.db')\n"
   ]
  },
  {
   "cell_type": "markdown",
   "metadata": {},
   "source": [
    "### To Create and insert data for IncidentCategory table"
   ]
  },
  {
   "cell_type": "code",
   "execution_count": 153,
   "metadata": {
    "colab": {
     "base_uri": "https://localhost:8080/"
    },
    "id": "85c1nrP1ykvB",
    "outputId": "cdd7c0bd-d81c-4635-95c6-9358e7d0a0f1"
   },
   "outputs": [],
   "source": [
    "def step5_create_IncidentCategory_table(data_filename,normalized_database_filename):\n",
    "    # Inputs: Name of the data and normalized database filename\n",
    "    # Output: dataframe to show five of the inserted rows\n",
    "    conn = create_connection(normalized_database_filename)\n",
    "    cat_list = []\n",
    "    with open(data_filename,'r') as f1:\n",
    "        for i in f1:\n",
    "            if i.split(',')[4] != 'title':\n",
    "                d = i.split(',')[4].strip()\n",
    "                if d == '':\n",
    "                    d = ('No_info','No_info')\n",
    "                if (d.split(':')[0].strip(),) not in cat_list:\n",
    "                    cat_list.append((d.split(':')[0].strip(),))\n",
    "    f1.close()\n",
    "    sort_func = lambda s: s[0]\n",
    "    cat_list = sorted(cat_list,key = sort_func)\n",
    "\n",
    "    with conn:\n",
    "        create_query = '''\n",
    "        CREATE TABLE IF NOT EXISTS IncidentCategory \n",
    "        (CategoryID Integer NOT NULL PRIMARY KEY AUTOINCREMENT, \n",
    "        Category text NOT NULL);'''\n",
    "        create_table(conn, create_query, drop_table_name='IncidentCategory')\n",
    "        insert_query = \"INSERT INTO IncidentCategory (Category) VALUES (?)\"\n",
    "        cur_region = conn.cursor()\n",
    "        cur_region.executemany(insert_query,cat_list)\n",
    "    #r = execute_sql_statement('SELECT * FROM IncidentCategory',conn)\n",
    "    df = pd.read_sql_query('SELECT * FROM IncidentCategory', conn)\n",
    "    df = df.head(5);\n",
    "    conn.commit()\n",
    "    conn.close()\n",
    "    return df"
   ]
  },
  {
   "cell_type": "code",
   "execution_count": 154,
   "metadata": {
    "id": "U7nCII9Vb0a5"
   },
   "outputs": [
    {
     "data": {
      "text/html": [
       "<style  type=\"text/css\" >\n",
       "    #T_e1afa_ th {\n",
       "          background: #420929;\n",
       "          color: white;\n",
       "          font-family: verdana;\n",
       "    }    #T_e1afa_ td {\n",
       "          border: 2px solid black;\n",
       "    }#T_e1afa_row0_col0{\n",
       "            background-color:  #f7fbff;\n",
       "            color:  #000000;\n",
       "        }#T_e1afa_row1_col0{\n",
       "            background-color:  #6aaed6;\n",
       "            color:  #000000;\n",
       "        }#T_e1afa_row2_col0{\n",
       "            background-color:  #08306b;\n",
       "            color:  #f1f1f1;\n",
       "        }</style><table id=\"T_e1afa_\" ><thead>    <tr>        <th class=\"col_heading level0 col0\" >CategoryID</th>        <th class=\"col_heading level0 col1\" >Category</th>    </tr></thead><tbody>\n",
       "                <tr>\n",
       "                                <td id=\"T_e1afa_row0_col0\" class=\"data row0 col0\" >1</td>\n",
       "                        <td id=\"T_e1afa_row0_col1\" class=\"data row0 col1\" >EMS</td>\n",
       "            </tr>\n",
       "            <tr>\n",
       "                                <td id=\"T_e1afa_row1_col0\" class=\"data row1 col0\" >2</td>\n",
       "                        <td id=\"T_e1afa_row1_col1\" class=\"data row1 col1\" >Fire</td>\n",
       "            </tr>\n",
       "            <tr>\n",
       "                                <td id=\"T_e1afa_row2_col0\" class=\"data row2 col0\" >3</td>\n",
       "                        <td id=\"T_e1afa_row2_col1\" class=\"data row2 col1\" >Traffic</td>\n",
       "            </tr>\n",
       "    </tbody></table>"
      ],
      "text/plain": [
       "<pandas.io.formats.style.Styler at 0x7fcad067bc40>"
      ]
     },
     "execution_count": 154,
     "metadata": {},
     "output_type": "execute_result"
    }
   ],
   "source": [
    "df = step5_create_IncidentCategory_table('911.csv', '911data.db')\n",
    "beautify_table(df)"
   ]
  },
  {
   "cell_type": "markdown",
   "metadata": {
    "id": "ZIKwDfzT0rRu"
   },
   "source": [
    "### To Create IncidentCategory dictionary"
   ]
  },
  {
   "cell_type": "code",
   "execution_count": 155,
   "metadata": {
    "colab": {
     "base_uri": "https://localhost:8080/"
    },
    "id": "WaFsxpdL0vqd",
    "outputId": "4c9af931-86a1-4856-8e9b-19029a687ed8"
   },
   "outputs": [],
   "source": [
    "def step6_create_IncidentCategory_dictionary(normalized_database_filename):\n",
    "    cat_dict = {}\n",
    "    conn = create_connection(normalized_database_filename)\n",
    "    sql_statement = \"Select * from IncidentCategory\"\n",
    "    df = execute_sql_statement(sql_statement,conn)\n",
    "    for row in df:\n",
    "        cat_dict[row[1]] = row[0];\n",
    "    conn.close()\n",
    "    return cat_dict;"
   ]
  },
  {
   "cell_type": "code",
   "execution_count": 156,
   "metadata": {},
   "outputs": [
    {
     "data": {
      "text/plain": [
       "{'EMS': 1, 'Fire': 2, 'Traffic': 3}"
      ]
     },
     "execution_count": 156,
     "metadata": {},
     "output_type": "execute_result"
    }
   ],
   "source": [
    "step6_create_IncidentCategory_dictionary('911data.db')"
   ]
  },
  {
   "cell_type": "markdown",
   "metadata": {
    "id": "z6IWBqzF2SCN"
   },
   "source": [
    "### To Create and insert data for IncidentSubCategory table"
   ]
  },
  {
   "cell_type": "code",
   "execution_count": 159,
   "metadata": {
    "colab": {
     "base_uri": "https://localhost:8080/",
     "height": 72
    },
    "id": "kdJRJelb2VlE",
    "outputId": "957fe07a-76d9-4a9f-a73e-ad9d2607b37f"
   },
   "outputs": [],
   "source": [
    "def step7_create_IncidentSubCategory_table(data_filename,normalized_database_filename):\n",
    "    # Inputs: Name of the data and normalized database filename\n",
    "    # Output: dataframe to show five of the inserted rows\n",
    "    conn = create_connection(normalized_database_filename)\n",
    "    subcat_list = []\n",
    "    cat_dict = step6_create_IncidentCategory_dictionary(normalized_database_filename)\n",
    "    with open(data_filename,'r') as f1:\n",
    "        for i in f1:\n",
    "            cat_id = 0\n",
    "            if i.split(',')[4] != 'title':\n",
    "                d = i.split(',')[4].strip()\n",
    "                if d == '':\n",
    "                    d = (0,'No_info')\n",
    "                cat_id = cat_dict[d.split(':')[0].strip()];    \n",
    "                if (cat_id,d.split(':')[1].strip()) not in subcat_list:\n",
    "                    subcat_list.append((cat_id,d.split(':')[1].strip()))\n",
    "    f1.close()\n",
    "    sort_func = lambda s: s[0]\n",
    "    subcat_list = sorted(subcat_list,key = sort_func)\n",
    "    with conn:\n",
    "        create_query = '''\n",
    "        CREATE TABLE IF NOT EXISTS IncidentSubCategory \n",
    "        (SubCategoryID Integer NOT NULL PRIMARY KEY AUTOINCREMENT, \n",
    "        CategoryID Integer NOT NULL,\n",
    "        SubCategory Text NOT NULL,\n",
    "        foreign key(CategoryID) references IncidentCategory(CategoryID));'''\n",
    "        create_table(conn, create_query, drop_table_name='IncidentSubCategory')\n",
    "        insert_query = \"INSERT INTO IncidentSubCategory (CategoryID,SubCategory) VALUES (?,?)\"\n",
    "        cur_region = conn.cursor()\n",
    "        cur_region.executemany(insert_query,subcat_list)\n",
    "    #r = execute_sql_statement('SELECT * FROM IncidentSubCategory',conn)\n",
    "    df = pd.read_sql_query('SELECT * FROM IncidentSubCategory', conn)\n",
    "    df = df.head(5);\n",
    "    #display(r)\n",
    "    conn.commit()\n",
    "    conn.close()"
   ]
  },
  {
   "cell_type": "code",
   "execution_count": 160,
   "metadata": {},
   "outputs": [
    {
     "data": {
      "text/html": [
       "<style  type=\"text/css\" >\n",
       "    #T_058a9_ th {\n",
       "          background: #420929;\n",
       "          color: white;\n",
       "          font-family: verdana;\n",
       "    }    #T_058a9_ td {\n",
       "          border: 2px solid black;\n",
       "    }#T_058a9_row0_col0{\n",
       "            background-color:  #f7fbff;\n",
       "            color:  #000000;\n",
       "        }#T_058a9_row1_col0{\n",
       "            background-color:  #6aaed6;\n",
       "            color:  #000000;\n",
       "        }#T_058a9_row2_col0{\n",
       "            background-color:  #08306b;\n",
       "            color:  #f1f1f1;\n",
       "        }</style><table id=\"T_058a9_\" ><thead>    <tr>        <th class=\"col_heading level0 col0\" >CategoryID</th>        <th class=\"col_heading level0 col1\" >Category</th>    </tr></thead><tbody>\n",
       "                <tr>\n",
       "                                <td id=\"T_058a9_row0_col0\" class=\"data row0 col0\" >1</td>\n",
       "                        <td id=\"T_058a9_row0_col1\" class=\"data row0 col1\" >EMS</td>\n",
       "            </tr>\n",
       "            <tr>\n",
       "                                <td id=\"T_058a9_row1_col0\" class=\"data row1 col0\" >2</td>\n",
       "                        <td id=\"T_058a9_row1_col1\" class=\"data row1 col1\" >Fire</td>\n",
       "            </tr>\n",
       "            <tr>\n",
       "                                <td id=\"T_058a9_row2_col0\" class=\"data row2 col0\" >3</td>\n",
       "                        <td id=\"T_058a9_row2_col1\" class=\"data row2 col1\" >Traffic</td>\n",
       "            </tr>\n",
       "    </tbody></table>"
      ],
      "text/plain": [
       "<pandas.io.formats.style.Styler at 0x7fcb205e9fa0>"
      ]
     },
     "execution_count": 160,
     "metadata": {},
     "output_type": "execute_result"
    }
   ],
   "source": [
    "step7_create_IncidentSubCategory_table('911.csv', '911data.db')\n",
    "beautify_table(df)"
   ]
  },
  {
   "cell_type": "markdown",
   "metadata": {
    "id": "HKNWQIEF6GC9"
   },
   "source": [
    "### To Create IncidentSubCategory dictionary"
   ]
  },
  {
   "cell_type": "code",
   "execution_count": 161,
   "metadata": {
    "id": "3acc95S66JW6"
   },
   "outputs": [],
   "source": [
    "def step8_create_IncidentSubCategory_dictionary(normalized_database_filename):\n",
    "    subcat_dict = {}\n",
    "    conn = create_connection(normalized_database_filename)\n",
    "    sql_statement = \"Select * from IncidentSubCategory\"\n",
    "    df = execute_sql_statement(sql_statement,conn)\n",
    "    for row in df:\n",
    "        subcat_dict[row[2]] = row[0];\n",
    "    conn.close()\n",
    "    return subcat_dict"
   ]
  },
  {
   "cell_type": "code",
   "execution_count": 162,
   "metadata": {},
   "outputs": [],
   "source": [
    "subcat_dict = step8_create_IncidentSubCategory_dictionary('911data.db')"
   ]
  },
  {
   "cell_type": "markdown",
   "metadata": {
    "id": "soV5U9_W8BMB"
   },
   "source": [
    "### To Create and insert data for CallRecord table"
   ]
  },
  {
   "cell_type": "code",
   "execution_count": 165,
   "metadata": {
    "colab": {
     "base_uri": "https://localhost:8080/"
    },
    "id": "gmMoBICr2JgK",
    "outputId": "7ba5a90d-468e-4de7-b32c-98e70defe48c"
   },
   "outputs": [],
   "source": [
    "def step9_create_Callrecord_table(data_filename,normalized_database_filename):\n",
    "    # Inputs: Name of the data and normalized database filename\n",
    "    # Output: dataframe to show five of the inserted rows\n",
    "    conn = create_connection(normalized_database_filename)\n",
    "    record_list = []\n",
    "    cat_dict = step6_create_IncidentCategory_dictionary(normalized_database_filename);\n",
    "    subcat_dict = step8_create_IncidentSubCategory_dictionary(normalized_database_filename)\n",
    "    twp_dict = step4_create_township_dictionary(normalized_database_filename)\n",
    "    tod_dict = step2_create_timeofday_dictionary(normalized_database_filename)\n",
    "    with open(data_filename,'r') as f1:\n",
    "        for i in f1:\n",
    "            record_ele = []\n",
    "            if i.split(',')[0] != 'lat':\n",
    "                d = i.split(',')[0].strip()\n",
    "                if d == '':\n",
    "                    record_ele.append(None)\n",
    "                else:\n",
    "                    record_ele.append(d) #lat\n",
    "            if i.split(',')[1] != 'lng':\n",
    "                d = i.split(',')[1].strip()\n",
    "                if d == '':\n",
    "                    record_ele.append(None)\n",
    "                else:\n",
    "                    record_ele.append(d) #lng          \n",
    "            if i.split(',')[4] != 'title':\n",
    "                d = i.split(',')[4].strip()\n",
    "                if d == '':\n",
    "                    record_ele.append(None)\n",
    "                    record_ele.append(None)\n",
    "                else:\n",
    "                    record_ele.append( cat_dict[d.split(':')[0].strip()] ) #Category ID\n",
    "                    record_ele.append( subcat_dict[d.split(':')[1].strip()] ) #Sub Category ID\n",
    "            if i.split(',')[2] != 'desc':\n",
    "                d = i.split(',')[2].strip()\n",
    "                if d == '':\n",
    "                    d = 'No_info'\n",
    "                record_ele.append( d ) #Description\n",
    "            if i.split(',')[3] != 'zip':\n",
    "                d = i.split(',')[3].strip()\n",
    "                if d == '':\n",
    "                    d = None\n",
    "                record_ele.append( d ) #Zip               \n",
    "            if i.split(',')[6] != 'twp':\n",
    "                d = i.split(',')[6].strip()\n",
    "                if d == '':\n",
    "                    d = None\n",
    "                else:\n",
    "                    d = twp_dict[d]\n",
    "                record_ele.append(d)  #Twp\n",
    "            if i.split(',')[7] != 'addr':\n",
    "                d = i.split(',')[7].strip()\n",
    "                if d == '':\n",
    "                    d = 'No_info'\n",
    "                record_ele.append(d)  #Address   \n",
    "            if i.split(',')[5] != 'timeStamp':\n",
    "                d = i.split(',')[5]\n",
    "                if d == '':\n",
    "                    record_ele.append(None)\n",
    "                    record_ele.append(None)\n",
    "                else:\n",
    "                    record_ele.append(d.strip().split(' ')[0]) #Date\n",
    "                    for k in time_details.keys():\n",
    "                        if int(d.strip().split(' ')[1].split(':')[0]) in k: \n",
    "                            record_ele.append(tod_dict[ time_details[k][0] ] ) #time of day\n",
    "            record_list.append(tuple(record_ele))\n",
    "    record_list = record_list[1:]  \n",
    "    print(len(record_list))\n",
    "    f1.close()\n",
    "\n",
    "    with conn:\n",
    "        create_query =\"\"\"\n",
    "        CREATE TABLE IF NOT EXISTS CallRecord (\n",
    "          [RecordID] integer not null Primary Key AUTOINCREMENT,\n",
    "          [latitude] real null,\n",
    "          [longitude] real null,\n",
    "          [CategoryID] integer not null,\n",
    "          [SubCategoryID] integer not null,\n",
    "          [Desc] Text not null,\n",
    "          [Zip] integer null,\n",
    "          [TownshipID] integer null,\n",
    "          [Address] Text null,\n",
    "          [Date] Date null ,\n",
    "          [TimeOfDayID] integer null,\n",
    "          FOREIGN KEY(CategoryID) REFERENCES IncidentCategory(CategoryID),\n",
    "          FOREIGN KEY(SubCategoryID) REFERENCES IncidentSubCategory(SubCategoryID),\n",
    "          FOREIGN KEY(TownshipID) REFERENCES Township(TownshipID),\n",
    "          FOREIGN KEY(TimeOfDayID) REFERENCES TimeOfDay(TimeOfDayID)\n",
    "        );\n",
    "        \"\"\"\n",
    "        create_table(conn, create_query, drop_table_name='CallRecord')\n",
    "        insert_query = '''INSERT INTO CallRecord (latitude,longitude,CategoryID,SubCategoryID,Desc,Zip,TownshipID,Address,Date,TimeOfDayID) \n",
    "        VALUES (?,?,?,?,?,?,?,?,?,?)'''\n",
    "        cur_region = conn.cursor()\n",
    "        cur_region.executemany(insert_query,record_list)\n",
    "    #r = execute_sql_statement('SELECT count(*) FROM CallRecord',conn)\n",
    "    df = pd.read_sql_query('SELECT * FROM CallRecord', conn)\n",
    "    df = df.head(5);\n",
    "    conn.commit()\n",
    "    conn.close()\n",
    "    return df"
   ]
  },
  {
   "cell_type": "code",
   "execution_count": 166,
   "metadata": {},
   "outputs": [
    {
     "name": "stdout",
     "output_type": "stream",
     "text": [
      "663522\n"
     ]
    },
    {
     "data": {
      "text/html": [
       "<style  type=\"text/css\" >\n",
       "    #T_5e61f_ th {\n",
       "          background: #420929;\n",
       "          color: white;\n",
       "          font-family: verdana;\n",
       "    }    #T_5e61f_ td {\n",
       "          border: 2px solid black;\n",
       "    }#T_5e61f_row0_col0,#T_5e61f_row0_col3,#T_5e61f_row0_col4,#T_5e61f_row1_col3,#T_5e61f_row1_col7,#T_5e61f_row2_col6,#T_5e61f_row2_col10,#T_5e61f_row3_col1,#T_5e61f_row3_col3,#T_5e61f_row3_col6,#T_5e61f_row3_col10,#T_5e61f_row4_col2,#T_5e61f_row4_col3,#T_5e61f_row4_col10{\n",
       "            background-color:  #f7fbff;\n",
       "            color:  #000000;\n",
       "        }#T_5e61f_row0_col1,#T_5e61f_row0_col6,#T_5e61f_row0_col10,#T_5e61f_row1_col2,#T_5e61f_row1_col10,#T_5e61f_row2_col3,#T_5e61f_row2_col7,#T_5e61f_row3_col7,#T_5e61f_row4_col0,#T_5e61f_row4_col4{\n",
       "            background-color:  #08306b;\n",
       "            color:  #f1f1f1;\n",
       "        }#T_5e61f_row0_col2{\n",
       "            background-color:  #eaf3fb;\n",
       "            color:  #000000;\n",
       "        }#T_5e61f_row0_col7{\n",
       "            background-color:  #084082;\n",
       "            color:  #f1f1f1;\n",
       "        }#T_5e61f_row1_col0{\n",
       "            background-color:  #c6dbef;\n",
       "            color:  #000000;\n",
       "        }#T_5e61f_row1_col1{\n",
       "            background-color:  #1b69af;\n",
       "            color:  #f1f1f1;\n",
       "        }#T_5e61f_row1_col4{\n",
       "            background-color:  #0f5aa3;\n",
       "            color:  #f1f1f1;\n",
       "        }#T_5e61f_row1_col6{\n",
       "            background-color:  #a3cce3;\n",
       "            color:  #000000;\n",
       "        }#T_5e61f_row2_col0{\n",
       "            background-color:  #6aaed6;\n",
       "            color:  #000000;\n",
       "        }#T_5e61f_row2_col1{\n",
       "            background-color:  #f2f7fd;\n",
       "            color:  #000000;\n",
       "        }#T_5e61f_row2_col2,#T_5e61f_row4_col1{\n",
       "            background-color:  #2272b6;\n",
       "            color:  #f1f1f1;\n",
       "        }#T_5e61f_row2_col4{\n",
       "            background-color:  #4b98ca;\n",
       "            color:  #000000;\n",
       "        }#T_5e61f_row3_col0{\n",
       "            background-color:  #2070b4;\n",
       "            color:  #f1f1f1;\n",
       "        }#T_5e61f_row3_col2{\n",
       "            background-color:  #1d6cb1;\n",
       "            color:  #f1f1f1;\n",
       "        }#T_5e61f_row3_col4{\n",
       "            background-color:  #0a549e;\n",
       "            color:  #f1f1f1;\n",
       "        }#T_5e61f_row4_col6{\n",
       "            background-color:  #000000;\n",
       "            color:  #f1f1f1;\n",
       "        }#T_5e61f_row4_col7{\n",
       "            background-color:  #4e9acb;\n",
       "            color:  #000000;\n",
       "        }</style><table id=\"T_5e61f_\" ><thead>    <tr>        <th class=\"col_heading level0 col0\" >RecordID</th>        <th class=\"col_heading level0 col1\" >latitude</th>        <th class=\"col_heading level0 col2\" >longitude</th>        <th class=\"col_heading level0 col3\" >CategoryID</th>        <th class=\"col_heading level0 col4\" >SubCategoryID</th>        <th class=\"col_heading level0 col5\" >Desc</th>        <th class=\"col_heading level0 col6\" >Zip</th>        <th class=\"col_heading level0 col7\" >TownshipID</th>        <th class=\"col_heading level0 col8\" >Address</th>        <th class=\"col_heading level0 col9\" >Date</th>        <th class=\"col_heading level0 col10\" >TimeOfDayID</th>    </tr></thead><tbody>\n",
       "                <tr>\n",
       "                                <td id=\"T_5e61f_row0_col0\" class=\"data row0 col0\" >1</td>\n",
       "                        <td id=\"T_5e61f_row0_col1\" class=\"data row0 col1\" >40.297876</td>\n",
       "                        <td id=\"T_5e61f_row0_col2\" class=\"data row0 col2\" >-75.581294</td>\n",
       "                        <td id=\"T_5e61f_row0_col3\" class=\"data row0 col3\" >1</td>\n",
       "                        <td id=\"T_5e61f_row0_col4\" class=\"data row0 col4\" >1</td>\n",
       "                        <td id=\"T_5e61f_row0_col5\" class=\"data row0 col5\" >REINDEER CT & DEAD END;  NEW HANOVER; Station 332; 2015-12-10 @ 17:10:52;</td>\n",
       "                        <td id=\"T_5e61f_row0_col6\" class=\"data row0 col6\" >19525.000000</td>\n",
       "                        <td id=\"T_5e61f_row0_col7\" class=\"data row0 col7\" >35.000000</td>\n",
       "                        <td id=\"T_5e61f_row0_col8\" class=\"data row0 col8\" >REINDEER CT & DEAD END</td>\n",
       "                        <td id=\"T_5e61f_row0_col9\" class=\"data row0 col9\" >2015-12-10</td>\n",
       "                        <td id=\"T_5e61f_row0_col10\" class=\"data row0 col10\" >3</td>\n",
       "            </tr>\n",
       "            <tr>\n",
       "                                <td id=\"T_5e61f_row1_col0\" class=\"data row1 col0\" >2</td>\n",
       "                        <td id=\"T_5e61f_row1_col1\" class=\"data row1 col1\" >40.258061</td>\n",
       "                        <td id=\"T_5e61f_row1_col2\" class=\"data row1 col2\" >-75.264680</td>\n",
       "                        <td id=\"T_5e61f_row1_col3\" class=\"data row1 col3\" >1</td>\n",
       "                        <td id=\"T_5e61f_row1_col4\" class=\"data row1 col4\" >115</td>\n",
       "                        <td id=\"T_5e61f_row1_col5\" class=\"data row1 col5\" >BRIAR PATH & WHITEMARSH LN;  HATFIELD TOWNSHIP; Station 345; 2015-12-10 @ 17:29:21;</td>\n",
       "                        <td id=\"T_5e61f_row1_col6\" class=\"data row1 col6\" >19446.000000</td>\n",
       "                        <td id=\"T_5e61f_row1_col7\" class=\"data row1 col7\" >19.000000</td>\n",
       "                        <td id=\"T_5e61f_row1_col8\" class=\"data row1 col8\" >BRIAR PATH & WHITEMARSH LN</td>\n",
       "                        <td id=\"T_5e61f_row1_col9\" class=\"data row1 col9\" >2015-12-10</td>\n",
       "                        <td id=\"T_5e61f_row1_col10\" class=\"data row1 col10\" >3</td>\n",
       "            </tr>\n",
       "            <tr>\n",
       "                                <td id=\"T_5e61f_row2_col0\" class=\"data row2 col0\" >3</td>\n",
       "                        <td id=\"T_5e61f_row2_col1\" class=\"data row2 col1\" >40.121182</td>\n",
       "                        <td id=\"T_5e61f_row2_col2\" class=\"data row2 col2\" >-75.351975</td>\n",
       "                        <td id=\"T_5e61f_row2_col3\" class=\"data row2 col3\" >2</td>\n",
       "                        <td id=\"T_5e61f_row2_col4\" class=\"data row2 col4\" >82</td>\n",
       "                        <td id=\"T_5e61f_row2_col5\" class=\"data row2 col5\" >HAWS AVE; NORRISTOWN; 2015-12-10 @ 14:39:21-Station:STA27;</td>\n",
       "                        <td id=\"T_5e61f_row2_col6\" class=\"data row2 col6\" >19401.000000</td>\n",
       "                        <td id=\"T_5e61f_row2_col7\" class=\"data row2 col7\" >36.000000</td>\n",
       "                        <td id=\"T_5e61f_row2_col8\" class=\"data row2 col8\" >HAWS AVE</td>\n",
       "                        <td id=\"T_5e61f_row2_col9\" class=\"data row2 col9\" >2015-12-10</td>\n",
       "                        <td id=\"T_5e61f_row2_col10\" class=\"data row2 col10\" >2</td>\n",
       "            </tr>\n",
       "            <tr>\n",
       "                                <td id=\"T_5e61f_row3_col0\" class=\"data row3 col0\" >4</td>\n",
       "                        <td id=\"T_5e61f_row3_col1\" class=\"data row3 col1\" >40.116153</td>\n",
       "                        <td id=\"T_5e61f_row3_col2\" class=\"data row3 col2\" >-75.343513</td>\n",
       "                        <td id=\"T_5e61f_row3_col3\" class=\"data row3 col3\" >1</td>\n",
       "                        <td id=\"T_5e61f_row3_col4\" class=\"data row3 col4\" >118</td>\n",
       "                        <td id=\"T_5e61f_row3_col5\" class=\"data row3 col5\" >AIRY ST & SWEDE ST;  NORRISTOWN; Station 308A; 2015-12-10 @ 16:47:36;</td>\n",
       "                        <td id=\"T_5e61f_row3_col6\" class=\"data row3 col6\" >19401.000000</td>\n",
       "                        <td id=\"T_5e61f_row3_col7\" class=\"data row3 col7\" >36.000000</td>\n",
       "                        <td id=\"T_5e61f_row3_col8\" class=\"data row3 col8\" >AIRY ST & SWEDE ST</td>\n",
       "                        <td id=\"T_5e61f_row3_col9\" class=\"data row3 col9\" >2015-12-10</td>\n",
       "                        <td id=\"T_5e61f_row3_col10\" class=\"data row3 col10\" >2</td>\n",
       "            </tr>\n",
       "            <tr>\n",
       "                                <td id=\"T_5e61f_row4_col0\" class=\"data row4 col0\" >5</td>\n",
       "                        <td id=\"T_5e61f_row4_col1\" class=\"data row4 col1\" >40.251492</td>\n",
       "                        <td id=\"T_5e61f_row4_col2\" class=\"data row4 col2\" >-75.603350</td>\n",
       "                        <td id=\"T_5e61f_row4_col3\" class=\"data row4 col3\" >1</td>\n",
       "                        <td id=\"T_5e61f_row4_col4\" class=\"data row4 col4\" >137</td>\n",
       "                        <td id=\"T_5e61f_row4_col5\" class=\"data row4 col5\" >CHERRYWOOD CT & DEAD END;  LOWER POTTSGROVE; Station 329; 2015-12-10 @ 16:56:52;</td>\n",
       "                        <td id=\"T_5e61f_row4_col6\" class=\"data row4 col6\" >nan</td>\n",
       "                        <td id=\"T_5e61f_row4_col7\" class=\"data row4 col7\" >29.000000</td>\n",
       "                        <td id=\"T_5e61f_row4_col8\" class=\"data row4 col8\" >CHERRYWOOD CT & DEAD END</td>\n",
       "                        <td id=\"T_5e61f_row4_col9\" class=\"data row4 col9\" >2015-12-10</td>\n",
       "                        <td id=\"T_5e61f_row4_col10\" class=\"data row4 col10\" >2</td>\n",
       "            </tr>\n",
       "    </tbody></table>"
      ],
      "text/plain": [
       "<pandas.io.formats.style.Styler at 0x7fcad06ece20>"
      ]
     },
     "execution_count": 166,
     "metadata": {},
     "output_type": "execute_result"
    }
   ],
   "source": [
    "df = step9_create_Callrecord_table('911.csv', '911data.db')\n",
    "#To view top 5 inserted rows \n",
    "beautify_table(df)"
   ]
  },
  {
   "cell_type": "markdown",
   "metadata": {},
   "source": [
    "## Townships generating 50% of the Call traffic records"
   ]
  },
  {
   "cell_type": "code",
   "execution_count": 167,
   "metadata": {
    "colab": {
     "base_uri": "https://localhost:8080/",
     "height": 398
    },
    "id": "XTkyi0giFzud",
    "outputId": "59a675d3-6d6c-42d8-a747-ddcf0b68e2d4"
   },
   "outputs": [
    {
     "data": {
      "text/html": [
       "<style  type=\"text/css\" >\n",
       "    #T_f4a5e_ th {\n",
       "          background: #420929;\n",
       "          color: white;\n",
       "          font-family: verdana;\n",
       "    }    #T_f4a5e_  {\n",
       "          border: 2px solid black;\n",
       "    }#T_f4a5e_row0_col1,#T_f4a5e_row0_col2,#T_f4a5e_row10_col3{\n",
       "            background-color:  #7f2704;\n",
       "            color:  #f1f1f1;\n",
       "        }#T_f4a5e_row0_col3,#T_f4a5e_row10_col1,#T_f4a5e_row10_col2{\n",
       "            background-color:  #fff5eb;\n",
       "            color:  #000000;\n",
       "        }#T_f4a5e_row1_col1,#T_f4a5e_row1_col2{\n",
       "            background-color:  #f57622;\n",
       "            color:  #000000;\n",
       "        }#T_f4a5e_row1_col3{\n",
       "            background-color:  #fee2c7;\n",
       "            color:  #000000;\n",
       "        }#T_f4a5e_row2_col1,#T_f4a5e_row2_col2{\n",
       "            background-color:  #fb8836;\n",
       "            color:  #000000;\n",
       "        }#T_f4a5e_row2_col3{\n",
       "            background-color:  #fdc794;\n",
       "            color:  #000000;\n",
       "        }#T_f4a5e_row3_col1,#T_f4a5e_row3_col2{\n",
       "            background-color:  #fd9446;\n",
       "            color:  #000000;\n",
       "        }#T_f4a5e_row3_col3{\n",
       "            background-color:  #fda35c;\n",
       "            color:  #000000;\n",
       "        }#T_f4a5e_row4_col1,#T_f4a5e_row4_col2{\n",
       "            background-color:  #fdba7f;\n",
       "            color:  #000000;\n",
       "        }#T_f4a5e_row4_col3{\n",
       "            background-color:  #fb8634;\n",
       "            color:  #000000;\n",
       "        }#T_f4a5e_row5_col1,#T_f4a5e_row5_col2{\n",
       "            background-color:  #fdd1a4;\n",
       "            color:  #000000;\n",
       "        }#T_f4a5e_row5_col3{\n",
       "            background-color:  #f16813;\n",
       "            color:  #000000;\n",
       "        }#T_f4a5e_row6_col1,#T_f4a5e_row6_col2{\n",
       "            background-color:  #fee6cf;\n",
       "            color:  #000000;\n",
       "        }#T_f4a5e_row6_col3{\n",
       "            background-color:  #e15307;\n",
       "            color:  #000000;\n",
       "        }#T_f4a5e_row7_col1,#T_f4a5e_row7_col2{\n",
       "            background-color:  #fee8d2;\n",
       "            color:  #000000;\n",
       "        }#T_f4a5e_row7_col3{\n",
       "            background-color:  #c84202;\n",
       "            color:  #f1f1f1;\n",
       "        }#T_f4a5e_row8_col1,#T_f4a5e_row8_col2{\n",
       "            background-color:  #fff0e1;\n",
       "            color:  #000000;\n",
       "        }#T_f4a5e_row8_col3{\n",
       "            background-color:  #a93703;\n",
       "            color:  #f1f1f1;\n",
       "        }#T_f4a5e_row9_col1,#T_f4a5e_row9_col2{\n",
       "            background-color:  #fff4e8;\n",
       "            color:  #000000;\n",
       "        }#T_f4a5e_row9_col3{\n",
       "            background-color:  #942f03;\n",
       "            color:  #f1f1f1;\n",
       "        }</style><table id=\"T_f4a5e_\" ><thead>    <tr>        <th class=\"col_heading level0 col0\" >TownshipName</th>        <th class=\"col_heading level0 col1\" >TotalCalls</th>        <th class=\"col_heading level0 col2\" >Percentage</th>        <th class=\"col_heading level0 col3\" >CummulativePercentage</th>    </tr></thead><tbody>\n",
       "                <tr>\n",
       "                                <td id=\"T_f4a5e_row0_col0\" class=\"data row0 col0\" >LOWER MERION</td>\n",
       "                        <td id=\"T_f4a5e_row0_col1\" class=\"data row0 col1\" >55490</td>\n",
       "                        <td id=\"T_f4a5e_row0_col2\" class=\"data row0 col2\" >8.366643</td>\n",
       "                        <td id=\"T_f4a5e_row0_col3\" class=\"data row0 col3\" >8.366643</td>\n",
       "            </tr>\n",
       "            <tr>\n",
       "                                <td id=\"T_f4a5e_row1_col0\" class=\"data row1 col0\" >ABINGTON</td>\n",
       "                        <td id=\"T_f4a5e_row1_col1\" class=\"data row1 col1\" >39947</td>\n",
       "                        <td id=\"T_f4a5e_row1_col2\" class=\"data row1 col2\" >6.023108</td>\n",
       "                        <td id=\"T_f4a5e_row1_col3\" class=\"data row1 col3\" >14.389751</td>\n",
       "            </tr>\n",
       "            <tr>\n",
       "                                <td id=\"T_f4a5e_row2_col0\" class=\"data row2 col0\" >NORRISTOWN</td>\n",
       "                        <td id=\"T_f4a5e_row2_col1\" class=\"data row2 col1\" >37633</td>\n",
       "                        <td id=\"T_f4a5e_row2_col2\" class=\"data row2 col2\" >5.674209</td>\n",
       "                        <td id=\"T_f4a5e_row2_col3\" class=\"data row2 col3\" >20.063960</td>\n",
       "            </tr>\n",
       "            <tr>\n",
       "                                <td id=\"T_f4a5e_row3_col0\" class=\"data row3 col0\" >UPPER MERION</td>\n",
       "                        <td id=\"T_f4a5e_row3_col1\" class=\"data row3 col1\" >36010</td>\n",
       "                        <td id=\"T_f4a5e_row3_col2\" class=\"data row3 col2\" >5.429497</td>\n",
       "                        <td id=\"T_f4a5e_row3_col3\" class=\"data row3 col3\" >25.493457</td>\n",
       "            </tr>\n",
       "            <tr>\n",
       "                                <td id=\"T_f4a5e_row4_col0\" class=\"data row4 col0\" >CHELTENHAM</td>\n",
       "                        <td id=\"T_f4a5e_row4_col1\" class=\"data row4 col1\" >30574</td>\n",
       "                        <td id=\"T_f4a5e_row4_col2\" class=\"data row4 col2\" >4.609871</td>\n",
       "                        <td id=\"T_f4a5e_row4_col3\" class=\"data row4 col3\" >30.103328</td>\n",
       "            </tr>\n",
       "            <tr>\n",
       "                                <td id=\"T_f4a5e_row5_col0\" class=\"data row5 col0\" >POTTSTOWN</td>\n",
       "                        <td id=\"T_f4a5e_row5_col1\" class=\"data row5 col1\" >27387</td>\n",
       "                        <td id=\"T_f4a5e_row5_col2\" class=\"data row5 col2\" >4.129343</td>\n",
       "                        <td id=\"T_f4a5e_row5_col3\" class=\"data row5 col3\" >34.232671</td>\n",
       "            </tr>\n",
       "            <tr>\n",
       "                                <td id=\"T_f4a5e_row6_col0\" class=\"data row6 col0\" >UPPER MORELAND</td>\n",
       "                        <td id=\"T_f4a5e_row6_col1\" class=\"data row6 col1\" >22932</td>\n",
       "                        <td id=\"T_f4a5e_row6_col2\" class=\"data row6 col2\" >3.457629</td>\n",
       "                        <td id=\"T_f4a5e_row6_col3\" class=\"data row6 col3\" >37.690300</td>\n",
       "            </tr>\n",
       "            <tr>\n",
       "                                <td id=\"T_f4a5e_row7_col0\" class=\"data row7 col0\" >LOWER PROVIDENCE</td>\n",
       "                        <td id=\"T_f4a5e_row7_col1\" class=\"data row7 col1\" >22476</td>\n",
       "                        <td id=\"T_f4a5e_row7_col2\" class=\"data row7 col2\" >3.388875</td>\n",
       "                        <td id=\"T_f4a5e_row7_col3\" class=\"data row7 col3\" >41.079175</td>\n",
       "            </tr>\n",
       "            <tr>\n",
       "                                <td id=\"T_f4a5e_row8_col0\" class=\"data row8 col0\" >PLYMOUTH</td>\n",
       "                        <td id=\"T_f4a5e_row8_col1\" class=\"data row8 col1\" >20116</td>\n",
       "                        <td id=\"T_f4a5e_row8_col2\" class=\"data row8 col2\" >3.033040</td>\n",
       "                        <td id=\"T_f4a5e_row8_col3\" class=\"data row8 col3\" >44.112215</td>\n",
       "            </tr>\n",
       "            <tr>\n",
       "                                <td id=\"T_f4a5e_row9_col0\" class=\"data row9 col0\" >UPPER DUBLIN</td>\n",
       "                        <td id=\"T_f4a5e_row9_col1\" class=\"data row9 col1\" >18862</td>\n",
       "                        <td id=\"T_f4a5e_row9_col2\" class=\"data row9 col2\" >2.843965</td>\n",
       "                        <td id=\"T_f4a5e_row9_col3\" class=\"data row9 col3\" >46.956180</td>\n",
       "            </tr>\n",
       "            <tr>\n",
       "                                <td id=\"T_f4a5e_row10_col0\" class=\"data row10 col0\" >HORSHAM</td>\n",
       "                        <td id=\"T_f4a5e_row10_col1\" class=\"data row10 col1\" >18380</td>\n",
       "                        <td id=\"T_f4a5e_row10_col2\" class=\"data row10 col2\" >2.771290</td>\n",
       "                        <td id=\"T_f4a5e_row10_col3\" class=\"data row10 col3\" >49.727470</td>\n",
       "            </tr>\n",
       "    </tbody></table>"
      ],
      "text/plain": [
       "<pandas.io.formats.style.Styler at 0x7fcad0807bb0>"
      ]
     },
     "execution_count": 167,
     "metadata": {},
     "output_type": "execute_result"
    }
   ],
   "source": [
    "conn = create_connection('911data.db')\n",
    "sql_statement = f'select T.TownshipName'\\\n",
    "f',count(*) as TotalCalls from CallRecord CR inner join Township as T on CR.TownshipID = T.TownshipID and CR.TownshipID not null'\\\n",
    "f' group by T.TownshipID order by TotalCalls desc'\n",
    "df = pd.read_sql_query(sql_statement, conn)\n",
    "ts = sum(df['TotalCalls'])\n",
    "df['Percentage'] = df['TotalCalls'].apply(lambda x:(x/ts)*100)\n",
    "df['CummulativePercentage'] = df['TotalCalls'].cumsum().apply(lambda x:(x/ts)*100)\n",
    "df1 = pd.DataFrame(df.loc[df['CummulativePercentage']<=50])\n",
    "\n",
    "df1.style.hide_index().bar(subset=[\"Percentage\"], color='#FFA07A')\n",
    "df1.style.set_table_styles(\n",
    "[{'selector': 'th',\n",
    "  'props': [('background', '#420929'), \n",
    "            ('color', 'white'),\n",
    "            ('font-family', 'verdana')]},\n",
    " {'selector': '',\n",
    "  'props': [('border', '2px solid black'), ]\n",
    "  }\n",
    " \n",
    "]\n",
    ").hide_index().background_gradient(cmap='Oranges')\n"
   ]
  },
  {
   "cell_type": "markdown",
   "metadata": {},
   "source": [
    "## Pie chart of call traffic with respect to time of the day"
   ]
  },
  {
   "cell_type": "code",
   "execution_count": 168,
   "metadata": {
    "colab": {
     "base_uri": "https://localhost:8080/",
     "height": 592
    },
    "id": "dbrf11nlWIgd",
    "outputId": "c508d441-fbb9-495f-8a19-bdb8ef0c490e"
   },
   "outputs": [
    {
     "data": {
      "text/plain": [
       "<AxesSubplot:ylabel='TotalCalls'>"
      ]
     },
     "execution_count": 168,
     "metadata": {},
     "output_type": "execute_result"
    },
    {
     "data": {
      "image/png": "[encoded data removed]",
      "text/plain": [
       "<Figure size 720x720 with 1 Axes>"
      ]
     },
     "metadata": {},
     "output_type": "display_data"
    }
   ],
   "source": [
    "conn = create_connection('911data.db')\n",
    "sql_statement = f'select T.TimeOfDay'\\\n",
    "f',count(*) as TotalCalls from CallRecord CR inner join TimeOfDay as T on CR.TimeOfDayID = T.TimeOfDayID and CR.TimeOfDayID not null'\\\n",
    "f' group by T.TimeOfDayID '\n",
    "df = pd.read_sql_query(sql_statement, conn)\n",
    "\n",
    "df.set_index('TimeOfDay', inplace=True)\n",
    "df.plot.pie(y='TotalCalls', legend=False,autopct = '%.0f%%',figsize = (10,10),textprops={'fontsize': 16})\n"
   ]
  },
  {
   "cell_type": "markdown",
   "metadata": {},
   "source": [
    "## Year wise trends for different incident categories"
   ]
  },
  {
   "cell_type": "code",
   "execution_count": 184,
   "metadata": {
    "colab": {
     "base_uri": "https://localhost:8080/",
     "height": 366
    },
    "id": "afAs7SVNaEbs",
    "outputId": "b4235fbe-8939-47c1-901a-a607a4cd0ad7"
   },
   "outputs": [
    {
     "data": {
      "text/plain": [
       "Category\n",
       "EMS        AxesSubplot(0.125,0.125;0.775x0.755)\n",
       "Fire       AxesSubplot(0.125,0.125;0.775x0.755)\n",
       "Traffic    AxesSubplot(0.125,0.125;0.775x0.755)\n",
       "Name: TotalCalls, dtype: object"
      ]
     },
     "execution_count": 184,
     "metadata": {},
     "output_type": "execute_result"
    },
    {
     "data": {
      "image/png": "[encoded data removed]",
      "text/plain": [
       "<Figure size 720x360 with 1 Axes>"
      ]
     },
     "metadata": {
      "needs_background": "light"
     },
     "output_type": "display_data"
    }
   ],
   "source": [
    "conn = create_connection('911data.db')\n",
    "sql_statement = f'select strftime(\"%Y\",CR.Date) as year'\\\n",
    "f',count(*) as TotalCalls,Category from CallRecord CR inner join IncidentCategory as IC on CR.CategoryID = IC.CategoryID and CR.CategoryID not null'\\\n",
    "f' group by year,CR.categoryID '\n",
    "df = pd.read_sql_query(sql_statement, conn)\n",
    "df = pd.DataFrame(df.loc[df['year']!='2015'])\n",
    "df.set_index('year', inplace=True)\n",
    "df.groupby('Category')['TotalCalls'].plot(legend=True,figsize = (10,5))\n",
    "\n",
    "\n"
   ]
  },
  {
   "cell_type": "markdown",
   "metadata": {},
   "source": [
    "## Year wise Total calls"
   ]
  },
  {
   "cell_type": "code",
   "execution_count": 185,
   "metadata": {
    "colab": {
     "base_uri": "https://localhost:8080/",
     "height": 475
    },
    "id": "fm4m4WIRpylI",
    "outputId": "f9083eec-c4ae-4e15-9465-0e2b86da5b63"
   },
   "outputs": [
    {
     "data": {
      "text/plain": [
       "<AxesSubplot:xlabel='year'>"
      ]
     },
     "execution_count": 185,
     "metadata": {},
     "output_type": "execute_result"
    },
    {
     "data": {
      "image/png": "[encoded data removed]",
      "text/plain": [
       "<Figure size 720x504 with 1 Axes>"
      ]
     },
     "metadata": {
      "needs_background": "light"
     },
     "output_type": "display_data"
    }
   ],
   "source": [
    "conn = create_connection('911data.db')\n",
    "sql_statement = f'select strftime(\"%Y\",CR.Date) as year'\\\n",
    "f',count(*) as TotalCalls,Category from CallRecord CR inner join IncidentCategory as IC on CR.CategoryID = IC.CategoryID and CR.CategoryID not null'\\\n",
    "f' group by year,CR.categoryID '\n",
    "df = pd.read_sql_query(sql_statement, conn)\n",
    "df = pd.DataFrame(df.loc[df['year']!='2015'])\n",
    "pivot_df = df.pivot(index='year', columns='Category', values='TotalCalls')\n",
    "colors = [\"#45ADA8\", \"#9DE0AD\",\"#E5FCC2\"]\n",
    "pivot_df.loc[:,['EMS','Fire', 'Traffic']].plot.bar(stacked=True, color=colors, figsize=(10,7))"
   ]
  },
  {
   "cell_type": "markdown",
   "metadata": {},
   "source": [
    "### Generating data frame for Map visualization"
   ]
  },
  {
   "cell_type": "code",
   "execution_count": 202,
   "metadata": {},
   "outputs": [
    {
     "data": {
      "text/html": [
       "<style  type=\"text/css\" >\n",
       "    #T_7e279_ th {\n",
       "          background: #420929;\n",
       "          color: white;\n",
       "          font-family: verdana;\n",
       "    }    #T_7e279_ td {\n",
       "          border: 2px solid black;\n",
       "    }#T_7e279_row0_col0,#T_7e279_row0_col5,#T_7e279_row1_col1{\n",
       "            background-color:  #08306b;\n",
       "            color:  #f1f1f1;\n",
       "        }#T_7e279_row0_col1{\n",
       "            background-color:  #eaf3fb;\n",
       "            color:  #000000;\n",
       "        }#T_7e279_row1_col0{\n",
       "            background-color:  #1b69af;\n",
       "            color:  #f1f1f1;\n",
       "        }#T_7e279_row1_col5{\n",
       "            background-color:  #a3cce3;\n",
       "            color:  #000000;\n",
       "        }#T_7e279_row2_col0{\n",
       "            background-color:  #f2f7fd;\n",
       "            color:  #000000;\n",
       "        }#T_7e279_row2_col1,#T_7e279_row4_col0{\n",
       "            background-color:  #2272b6;\n",
       "            color:  #f1f1f1;\n",
       "        }#T_7e279_row2_col5,#T_7e279_row3_col0,#T_7e279_row3_col5,#T_7e279_row4_col1{\n",
       "            background-color:  #f7fbff;\n",
       "            color:  #000000;\n",
       "        }#T_7e279_row3_col1{\n",
       "            background-color:  #1d6cb1;\n",
       "            color:  #f1f1f1;\n",
       "        }#T_7e279_row4_col5{\n",
       "            background-color:  #000000;\n",
       "            color:  #f1f1f1;\n",
       "        }</style><table id=\"T_7e279_\" ><thead>    <tr>        <th class=\"col_heading level0 col0\" >latitude</th>        <th class=\"col_heading level0 col1\" >longitude</th>        <th class=\"col_heading level0 col2\" >Category</th>        <th class=\"col_heading level0 col3\" >SubCategory</th>        <th class=\"col_heading level0 col4\" >Desc</th>        <th class=\"col_heading level0 col5\" >Zip</th>        <th class=\"col_heading level0 col6\" >TownshipName</th>        <th class=\"col_heading level0 col7\" >Address</th>        <th class=\"col_heading level0 col8\" >Date</th>        <th class=\"col_heading level0 col9\" >TimeOfDay</th>    </tr></thead><tbody>\n",
       "                <tr>\n",
       "                                <td id=\"T_7e279_row0_col0\" class=\"data row0 col0\" >40.297876</td>\n",
       "                        <td id=\"T_7e279_row0_col1\" class=\"data row0 col1\" >-75.581294</td>\n",
       "                        <td id=\"T_7e279_row0_col2\" class=\"data row0 col2\" >EMS</td>\n",
       "                        <td id=\"T_7e279_row0_col3\" class=\"data row0 col3\" >BACK PAINS/INJURY</td>\n",
       "                        <td id=\"T_7e279_row0_col4\" class=\"data row0 col4\" >REINDEER CT & DEAD END;  NEW HANOVER; Station 332; 2015-12-10 @ 17:10:52;</td>\n",
       "                        <td id=\"T_7e279_row0_col5\" class=\"data row0 col5\" >19525.000000</td>\n",
       "                        <td id=\"T_7e279_row0_col6\" class=\"data row0 col6\" >NEW HANOVER</td>\n",
       "                        <td id=\"T_7e279_row0_col7\" class=\"data row0 col7\" >REINDEER CT & DEAD END</td>\n",
       "                        <td id=\"T_7e279_row0_col8\" class=\"data row0 col8\" >2015-12-10</td>\n",
       "                        <td id=\"T_7e279_row0_col9\" class=\"data row0 col9\" >Evening</td>\n",
       "            </tr>\n",
       "            <tr>\n",
       "                                <td id=\"T_7e279_row1_col0\" class=\"data row1 col0\" >40.258061</td>\n",
       "                        <td id=\"T_7e279_row1_col1\" class=\"data row1 col1\" >-75.264680</td>\n",
       "                        <td id=\"T_7e279_row1_col2\" class=\"data row1 col2\" >EMS</td>\n",
       "                        <td id=\"T_7e279_row1_col3\" class=\"data row1 col3\" >DIABETIC EMERGENCY</td>\n",
       "                        <td id=\"T_7e279_row1_col4\" class=\"data row1 col4\" >BRIAR PATH & WHITEMARSH LN;  HATFIELD TOWNSHIP; Station 345; 2015-12-10 @ 17:29:21;</td>\n",
       "                        <td id=\"T_7e279_row1_col5\" class=\"data row1 col5\" >19446.000000</td>\n",
       "                        <td id=\"T_7e279_row1_col6\" class=\"data row1 col6\" >HATFIELD TOWNSHIP</td>\n",
       "                        <td id=\"T_7e279_row1_col7\" class=\"data row1 col7\" >BRIAR PATH & WHITEMARSH LN</td>\n",
       "                        <td id=\"T_7e279_row1_col8\" class=\"data row1 col8\" >2015-12-10</td>\n",
       "                        <td id=\"T_7e279_row1_col9\" class=\"data row1 col9\" >Evening</td>\n",
       "            </tr>\n",
       "            <tr>\n",
       "                                <td id=\"T_7e279_row2_col0\" class=\"data row2 col0\" >40.121182</td>\n",
       "                        <td id=\"T_7e279_row2_col1\" class=\"data row2 col1\" >-75.351975</td>\n",
       "                        <td id=\"T_7e279_row2_col2\" class=\"data row2 col2\" >Fire</td>\n",
       "                        <td id=\"T_7e279_row2_col3\" class=\"data row2 col3\" >GAS-ODOR/LEAK</td>\n",
       "                        <td id=\"T_7e279_row2_col4\" class=\"data row2 col4\" >HAWS AVE; NORRISTOWN; 2015-12-10 @ 14:39:21-Station:STA27;</td>\n",
       "                        <td id=\"T_7e279_row2_col5\" class=\"data row2 col5\" >19401.000000</td>\n",
       "                        <td id=\"T_7e279_row2_col6\" class=\"data row2 col6\" >NORRISTOWN</td>\n",
       "                        <td id=\"T_7e279_row2_col7\" class=\"data row2 col7\" >HAWS AVE</td>\n",
       "                        <td id=\"T_7e279_row2_col8\" class=\"data row2 col8\" >2015-12-10</td>\n",
       "                        <td id=\"T_7e279_row2_col9\" class=\"data row2 col9\" >Afternoon</td>\n",
       "            </tr>\n",
       "            <tr>\n",
       "                                <td id=\"T_7e279_row3_col0\" class=\"data row3 col0\" >40.116153</td>\n",
       "                        <td id=\"T_7e279_row3_col1\" class=\"data row3 col1\" >-75.343513</td>\n",
       "                        <td id=\"T_7e279_row3_col2\" class=\"data row3 col2\" >EMS</td>\n",
       "                        <td id=\"T_7e279_row3_col3\" class=\"data row3 col3\" >CARDIAC EMERGENCY</td>\n",
       "                        <td id=\"T_7e279_row3_col4\" class=\"data row3 col4\" >AIRY ST & SWEDE ST;  NORRISTOWN; Station 308A; 2015-12-10 @ 16:47:36;</td>\n",
       "                        <td id=\"T_7e279_row3_col5\" class=\"data row3 col5\" >19401.000000</td>\n",
       "                        <td id=\"T_7e279_row3_col6\" class=\"data row3 col6\" >NORRISTOWN</td>\n",
       "                        <td id=\"T_7e279_row3_col7\" class=\"data row3 col7\" >AIRY ST & SWEDE ST</td>\n",
       "                        <td id=\"T_7e279_row3_col8\" class=\"data row3 col8\" >2015-12-10</td>\n",
       "                        <td id=\"T_7e279_row3_col9\" class=\"data row3 col9\" >Afternoon</td>\n",
       "            </tr>\n",
       "            <tr>\n",
       "                                <td id=\"T_7e279_row4_col0\" class=\"data row4 col0\" >40.251492</td>\n",
       "                        <td id=\"T_7e279_row4_col1\" class=\"data row4 col1\" >-75.603350</td>\n",
       "                        <td id=\"T_7e279_row4_col2\" class=\"data row4 col2\" >EMS</td>\n",
       "                        <td id=\"T_7e279_row4_col3\" class=\"data row4 col3\" >DIZZINESS</td>\n",
       "                        <td id=\"T_7e279_row4_col4\" class=\"data row4 col4\" >CHERRYWOOD CT & DEAD END;  LOWER POTTSGROVE; Station 329; 2015-12-10 @ 16:56:52;</td>\n",
       "                        <td id=\"T_7e279_row4_col5\" class=\"data row4 col5\" >nan</td>\n",
       "                        <td id=\"T_7e279_row4_col6\" class=\"data row4 col6\" >LOWER POTTSGROVE</td>\n",
       "                        <td id=\"T_7e279_row4_col7\" class=\"data row4 col7\" >CHERRYWOOD CT & DEAD END</td>\n",
       "                        <td id=\"T_7e279_row4_col8\" class=\"data row4 col8\" >2015-12-10</td>\n",
       "                        <td id=\"T_7e279_row4_col9\" class=\"data row4 col9\" >Afternoon</td>\n",
       "            </tr>\n",
       "    </tbody></table>"
      ],
      "text/plain": [
       "<pandas.io.formats.style.Styler at 0x7fcadee6be20>"
      ]
     },
     "execution_count": 202,
     "metadata": {},
     "output_type": "execute_result"
    }
   ],
   "source": [
    "conn = create_connection('911data.db')\n",
    "s = \"\"\" select cr.latitude,cr.longitude,c.Category,sc.SubCategory,cr.Desc,cr.Zip,TownshipName,Address,Date,TimeOfDay from CallRecord as cr \n",
    "inner join IncidentCategory as c on cr.CategoryID = c.CategoryID \n",
    "inner join IncidentSubCategory as sc on cr.SubCategoryID = sc.SubcategoryID \n",
    "inner join TimeOfDay T on cr.TimeOfDayId = T.TimeOfDayId\n",
    "inner join Township tw on cr.TownshipID = tw.TownshipID\n",
    "LIMIT 3000\n",
    "\"\"\"\n",
    "df = pd.read_sql_query(s, conn)\n",
    "beautify_table(df.head())"
   ]
  },
  {
   "cell_type": "markdown",
   "metadata": {},
   "source": [
    "### Background and icon color dictionaries"
   ]
  },
  {
   "cell_type": "code",
   "execution_count": 204,
   "metadata": {},
   "outputs": [],
   "source": [
    "dic_col={\"Monday\":\"orange\",\"Tuesday\":\"green\",\"Wednesday\":\"blue\",\"Thursday\":\"purple\",\"Friday\":\"pink\",\"Saturday\":\"violet\",\"Sunday\":\"red\"}\n",
    "dic_days={\"0\":\"orange\",\"1\":\"green\",\"2\":\"blue\",\"3\":\"purple\",\"4\":\"pink\",\"5\":\"darkpurple\",\"6\":\"red\"}\n",
    "dic_col_tod = {\"Morning\":\"#a3cce3\",\"Afternoon\":\"#f16813\",\"Evening\":\"#fdc794\",\"Night\":\"#08306b\"}"
   ]
  },
  {
   "cell_type": "markdown",
   "metadata": {},
   "source": [
    "## Call records visualization on basis of location on Map"
   ]
  },
  {
   "cell_type": "code",
   "execution_count": 212,
   "metadata": {},
   "outputs": [],
   "source": [
    "plotWeb =fm.Map(location=[df[\"latitude\"].mean(),df[\"longitude\"].mean()],zoom_start=12,tiles='OpenStreetMap')\n",
    "groups =fm.FeatureGroup(name=\"911 Calls Map\")\n",
    "\n",
    "popup = fm.Popup(iframe)\n",
    "for i,x in df.iterrows():\n",
    "    html = f'<body style=\"background-color:{dic_col_tod[x[\"TimeOfDay\"]]};\"><p style=\"color:white;\"><b>{x[\"TownshipName\"]}</b></p>\\\n",
    "    <p style=\"color:white;\">Category: {x[\"Category\"]}</p>\\\n",
    "    <p style=\"color:white;\">Sub Category: {x[\"SubCategory\"]}</p></body>'\n",
    "\n",
    "    iframe = fm.IFrame(html,\n",
    "                           width=200,\n",
    "                           height=120)\n",
    "\n",
    "    popup = fm.Popup(iframe)\n",
    "    #groups.add_child(fm.Marker(location=[x[\"latitude\"], x[\"longitude\"]],popup=str(x[\"Category\"])+': '+str(x[\"SubCategory\"]),icon=fm.Icon(color=dic_days[str(pd.Timestamp(x[\"Date\"]).dayofweek)])))\n",
    "    groups.add_child(fm.Marker(location=[x[\"latitude\"], x[\"longitude\"]],popup=popup,icon=fm.Icon(color=dic_days[str(pd.Timestamp(x[\"Date\"]).dayofweek)])))\n",
    "plotWeb.add_child(groups)\n",
    "\n",
    "plotWeb.save('Tr_300_.html')"
   ]
  },
  {
   "cell_type": "code",
   "execution_count": null,
   "metadata": {},
   "outputs": [],
   "source": []
  }
 ],
 "metadata": {
  "colab": {
   "collapsed_sections": [],
   "name": "503 project.ipynb",
   "provenance": []
  },
  "kernelspec": {
   "display_name": "Python 3",
   "language": "python",
   "name": "python3"
  },
  "language_info": {
   "codemirror_mode": {
    "name": "ipython",
    "version": 3
   },
   "file_extension": ".py",
   "mimetype": "text/x-python",
   "name": "python",
   "nbconvert_exporter": "python",
   "pygments_lexer": "ipython3",
   "version": "3.8.8"
  }
 },
 "nbformat": 4,
 "nbformat_minor": 1
}

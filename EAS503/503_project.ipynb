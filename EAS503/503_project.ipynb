{
  "nbformat": 4,
  "nbformat_minor": 0,
  "metadata": {
    "colab": {
      "name": "503 project.ipynb",
      "provenance": [],
      "collapsed_sections": []
    },
    "kernelspec": {
      "name": "python3",
      "display_name": "Python 3"
    },
    "language_info": {
      "name": "python"
    }
  },
  "cells": [
    {
      "cell_type": "code",
      "metadata": {
        "colab": {
          "base_uri": "https://localhost:8080/"
        },
        "id": "t_RgwA_VVFgA",
        "outputId": "3b170c37-9293-440a-c75a-a1f1e79fe1e6"
      },
      "source": [
        "!pip install db-sqlite3"
      ],
      "execution_count": null,
      "outputs": [
        {
          "output_type": "stream",
          "name": "stdout",
          "text": [
            "Collecting db-sqlite3\n",
            "  Downloading db-sqlite3-0.0.1.tar.gz (1.4 kB)\n",
            "Collecting db\n",
            "  Downloading db-0.1.1.tar.gz (3.4 kB)\n",
            "Collecting antiorm\n",
            "  Downloading antiorm-1.2.1.tar.gz (171 kB)\n",
            "\u001b[K     |████████████████████████████████| 171 kB 6.9 MB/s \n",
            "\u001b[?25hBuilding wheels for collected packages: db-sqlite3, db, antiorm\n",
            "  Building wheel for db-sqlite3 (setup.py) ... \u001b[?25l\u001b[?25hdone\n",
            "  Created wheel for db-sqlite3: filename=db_sqlite3-0.0.1-py3-none-any.whl size=1795 sha256=f37d8b266da97e3ff70532e6330bdcf7ef7339022903a77de3cdfd7351a2df5b\n",
            "  Stored in directory: /root/.cache/pip/wheels/02/38/d5/2f54461050571bf5330fee2a37ab1c9b5e7540b0572f1acdab\n",
            "  Building wheel for db (setup.py) ... \u001b[?25l\u001b[?25hdone\n",
            "  Created wheel for db: filename=db-0.1.1-py3-none-any.whl size=3894 sha256=0d22c7007202db92d62f72ed7ebac5a85a651fa557c9779fad827a9640996852\n",
            "  Stored in directory: /root/.cache/pip/wheels/8e/97/82/741d2b360507411ec233d0280d7371faa94b03bde834e4a9be\n",
            "  Building wheel for antiorm (setup.py) ... \u001b[?25l\u001b[?25hdone\n",
            "  Created wheel for antiorm: filename=antiorm-1.2.1-py3-none-any.whl size=31678 sha256=be0a0e6ee1d3d968c59c14c2a8fcc4fde7a3f9388b28bff70242ef01eb60c523\n",
            "  Stored in directory: /root/.cache/pip/wheels/c5/43/70/e9729370cfff40c49d3e3d05377d54b3ecd71f64e62341ea80\n",
            "Successfully built db-sqlite3 db antiorm\n",
            "Installing collected packages: antiorm, db, db-sqlite3\n",
            "Successfully installed antiorm-1.2.1 db-0.1.1 db-sqlite3-0.0.1\n"
          ]
        }
      ]
    },
    {
      "cell_type": "code",
      "metadata": {
        "id": "x0f4eApXVjyl"
      },
      "source": [
        "from IPython.display import display, HTML\n",
        "import pandas as pd\n",
        "import sqlite3\n",
        "from sqlite3 import Error"
      ],
      "execution_count": null,
      "outputs": []
    },
    {
      "cell_type": "code",
      "metadata": {
        "id": "JxZEuyrpYxJu"
      },
      "source": [
        "def create_connection(db_file, delete_db=False):\n",
        "    import os\n",
        "    if delete_db and os.path.exists(db_file):\n",
        "        os.remove(db_file)\n",
        "\n",
        "    conn = None\n",
        "    try:\n",
        "        conn = sqlite3.connect(db_file)\n",
        "        conn.execute(\"PRAGMA foreign_keys = 1\")\n",
        "    except Error as e:\n",
        "        print(e)\n",
        "\n",
        "    return conn\n",
        "\n",
        "\n",
        "def create_table(conn, create_table_sql, drop_table_name=None):\n",
        "    \n",
        "    if drop_table_name: # You can optionally pass drop_table_name to drop the table. \n",
        "        try:\n",
        "            c = conn.cursor()\n",
        "            c.execute(\"\"\"DROP TABLE IF EXISTS %s\"\"\" % (drop_table_name))\n",
        "        except Error as e:\n",
        "            print(e)\n",
        "    \n",
        "    try:\n",
        "        c = conn.cursor()\n",
        "        c.execute(create_table_sql)\n",
        "    except Error as e:\n",
        "        print(e)\n",
        "        \n",
        "def execute_sql_statement(sql_statement, conn):\n",
        "    cur = conn.cursor()\n",
        "    cur.execute(sql_statement)\n",
        "\n",
        "    rows = cur.fetchall()\n",
        "\n",
        "    return rows"
      ],
      "execution_count": null,
      "outputs": []
    },
    {
      "cell_type": "code",
      "metadata": {
        "colab": {
          "base_uri": "https://localhost:8080/"
        },
        "id": "qI9P4GkXZGR-",
        "outputId": "2f979cf7-3284-425e-be29-b8bf12a038af"
      },
      "source": [
        "# def step1_create_region_table(data_filename, normalized_database_filename):\n",
        "#     # Inputs: Name of the data and normalized database filename\n",
        "#     # Output: None\n",
        "conn = create_connection('911data.db') \n",
        "l = []\n",
        "#[*range(21, 24), *range(0, 5)]\n",
        "time_details = {range(5,12):('Morning',5,11),range(12,17):('Afternoon',12,16),range(17,21):('Evening',17,20),range(21, 24):('Night',21,4),range(0, 5):('Night',21,4)}\n",
        "with open('911.csv','r') as f:\n",
        "    for i in f:\n",
        "        if i.split(',')[5] != 'timeStamp':\n",
        "            d = i.split(',')[5]\n",
        "            for k in time_details.keys():\n",
        "              if int(d.strip().split(' ')[1].split(':')[0]) in k: \n",
        "                details = time_details[k]\n",
        "                if details not in l:\n",
        "                  l.append(details)\n",
        "                break         \n",
        "f.close()\n",
        "sort_func = lambda s: s[1]\n",
        "l = sorted(l,key = sort_func)\n",
        "#print(l)\n",
        "\n",
        "# conn = create_connection(normalized_database_filename)\n",
        "with conn:\n",
        "    create_query = 'CREATE TABLE IF NOT EXISTS TimeOfDay (TimeOfDayID Integer NOT NULL PRIMARY KEY, TimeOfDay text NOT NULL, StartTime integer NOT NULL, EndTime integer NOT NULL);'\n",
        "    create_table(conn, create_query, drop_table_name='TimeOfDay')\n",
        "    insert_query = \"INSERT INTO TimeOfDay (TimeOfDay,StartTime,EndTime) VALUES (?,?,?)\"\n",
        "    cur_region = conn.cursor()\n",
        "    cur_region.executemany(insert_query,l)\n",
        "r = execute_sql_statement('SELECT * FROM TimeOfDay',conn)\n",
        "print(r)\n",
        "conn.commit()\n",
        "conn.close()"
      ],
      "execution_count": null,
      "outputs": [
        {
          "output_type": "stream",
          "name": "stdout",
          "text": [
            "[(1, 'Morning', 5, 11), (2, 'Afternoon', 12, 16), (3, 'Evening', 17, 20), (4, 'Night', 21, 4)]\n"
          ]
        }
      ]
    },
    {
      "cell_type": "code",
      "metadata": {
        "colab": {
          "base_uri": "https://localhost:8080/"
        },
        "id": "XbokPUKRlLgB",
        "outputId": "1b75d918-4109-4939-a6b4-b9e36a9754c3"
      },
      "source": [
        "tod_dict = {}\n",
        "conn = create_connection('911data.db')\n",
        "sql_statement = \"Select * from TimeOfDay\"\n",
        "df = execute_sql_statement(sql_statement,conn)\n",
        "for row in df:\n",
        "    tod_dict[row[1]] = row[0];\n",
        "print(tod_dict)\n",
        "conn.close()"
      ],
      "execution_count": null,
      "outputs": [
        {
          "output_type": "stream",
          "name": "stdout",
          "text": [
            "{'Morning': 1, 'Afternoon': 2, 'Evening': 3, 'Night': 4}\n"
          ]
        }
      ]
    },
    {
      "cell_type": "code",
      "metadata": {
        "colab": {
          "base_uri": "https://localhost:8080/"
        },
        "id": "lbLKgErAsJo0",
        "outputId": "24014584-fe27-4745-ee82-11e9b26267b4"
      },
      "source": [
        "conn = create_connection('911data.db')\n",
        "l1 = []\n",
        "# time_details = {range(5,12):('Morning',5,11),range(12,17):('Afetrnoon',12,16),range(17,21):('Evening',17,20),range(21,4,-1):('Night',21,4)}\n",
        "with open('911.csv','r') as f1:\n",
        "    for i in f1:\n",
        "        if i.split(',')[6] != 'twp':\n",
        "            d = i.split(',')[6].strip()\n",
        "            if d != '':\n",
        "              if (d,) not in l1:\n",
        "                  l1.append((d,))  \n",
        "f1.close()\n",
        "# sort_func = lambda s: s[1]\n",
        "# l1 = sorted(l,key = sort_func)\n",
        "l1.sort()\n",
        "print(l1)\n",
        "# conn = create_connection(normalized_database_filename)\n",
        "with conn:\n",
        "    create_query = 'CREATE TABLE IF NOT EXISTS Township (TownshipID Integer NOT NULL PRIMARY KEY, TownshipName text NOT NULL);'\n",
        "    create_table(conn, create_query, drop_table_name='Township')\n",
        "    insert_query = \"INSERT INTO Township (TownshipName) VALUES (?)\"\n",
        "    cur_region = conn.cursor()\n",
        "    cur_region.executemany(insert_query,l1)\n",
        "r = execute_sql_statement('SELECT * FROM Township',conn)\n",
        "print(len(r))\n",
        "conn.commit()\n",
        "conn.close()"
      ],
      "execution_count": null,
      "outputs": [
        {
          "output_type": "stream",
          "name": "stdout",
          "text": [
            "[('ABINGTON',), ('AMBLER',), ('BERKS COUNTY',), ('BRIDGEPORT',), ('BRYN ATHYN',), ('BUCKS COUNTY',), ('CHELTENHAM',), ('CHESTER COUNTY',), ('COLLEGEVILLE',), ('CONSHOHOCKEN',), ('DELAWARE COUNTY',), ('DOUGLASS',), ('EAST GREENVILLE',), ('EAST NORRITON',), ('FRANCONIA',), ('GREEN LANE',), ('HATBORO',), ('HATFIELD BORO',), ('HATFIELD TOWNSHIP',), ('HORSHAM',), ('JENKINTOWN',), ('LANSDALE',), ('LEHIGH COUNTY',), ('LIMERICK',), ('LOWER FREDERICK',), ('LOWER GWYNEDD',), ('LOWER MERION',), ('LOWER MORELAND',), ('LOWER POTTSGROVE',), ('LOWER PROVIDENCE',), ('LOWER SALFORD',), ('MARLBOROUGH',), ('MONTGOMERY',), ('NARBERTH',), ('NEW HANOVER',), ('NORRISTOWN',), ('NORTH WALES',), ('PENNSBURG',), ('PERKIOMEN',), ('PHILA COUNTY',), ('PLYMOUTH',), ('POTTSTOWN',), ('RED HILL',), ('ROCKLEDGE',), ('ROYERSFORD',), ('SALFORD',), ('SCHWENKSVILLE',), ('SKIPPACK',), ('SOUDERTON',), ('SPRINGFIELD',), ('TELFORD',), ('TOWAMENCIN',), ('TRAPPE',), ('UPPER DUBLIN',), ('UPPER FREDERICK',), ('UPPER GWYNEDD',), ('UPPER HANOVER',), ('UPPER MERION',), ('UPPER MORELAND',), ('UPPER POTTSGROVE',), ('UPPER PROVIDENCE',), ('UPPER SALFORD',), ('WEST CONSHOHOCKEN',), ('WEST NORRITON',), ('WEST POTTSGROVE',), ('WHITEMARSH',), ('WHITPAIN',), ('WORCESTER',)]\n",
            "68\n"
          ]
        }
      ]
    },
    {
      "cell_type": "code",
      "metadata": {
        "colab": {
          "base_uri": "https://localhost:8080/"
        },
        "id": "MgqLVLEAiRkl",
        "outputId": "5b12a4fd-7df0-42fe-f436-4705a8f91ab7"
      },
      "source": [
        "twp_dict = {}\n",
        "conn = create_connection('911data.db')\n",
        "sql_statement = \"Select * from Township\"\n",
        "df = execute_sql_statement(sql_statement,conn)\n",
        "for row in df:\n",
        "    twp_dict[row[1]] = row[0];\n",
        "print(twp_dict)\n",
        "conn.close()"
      ],
      "execution_count": null,
      "outputs": [
        {
          "output_type": "stream",
          "name": "stdout",
          "text": [
            "{'ABINGTON': 1, 'AMBLER': 2, 'BERKS COUNTY': 3, 'BRIDGEPORT': 4, 'BRYN ATHYN': 5, 'BUCKS COUNTY': 6, 'CHELTENHAM': 7, 'CHESTER COUNTY': 8, 'COLLEGEVILLE': 9, 'CONSHOHOCKEN': 10, 'DELAWARE COUNTY': 11, 'DOUGLASS': 12, 'EAST GREENVILLE': 13, 'EAST NORRITON': 14, 'FRANCONIA': 15, 'GREEN LANE': 16, 'HATBORO': 17, 'HATFIELD BORO': 18, 'HATFIELD TOWNSHIP': 19, 'HORSHAM': 20, 'JENKINTOWN': 21, 'LANSDALE': 22, 'LEHIGH COUNTY': 23, 'LIMERICK': 24, 'LOWER FREDERICK': 25, 'LOWER GWYNEDD': 26, 'LOWER MERION': 27, 'LOWER MORELAND': 28, 'LOWER POTTSGROVE': 29, 'LOWER PROVIDENCE': 30, 'LOWER SALFORD': 31, 'MARLBOROUGH': 32, 'MONTGOMERY': 33, 'NARBERTH': 34, 'NEW HANOVER': 35, 'NORRISTOWN': 36, 'NORTH WALES': 37, 'PENNSBURG': 38, 'PERKIOMEN': 39, 'PHILA COUNTY': 40, 'PLYMOUTH': 41, 'POTTSTOWN': 42, 'RED HILL': 43, 'ROCKLEDGE': 44, 'ROYERSFORD': 45, 'SALFORD': 46, 'SCHWENKSVILLE': 47, 'SKIPPACK': 48, 'SOUDERTON': 49, 'SPRINGFIELD': 50, 'TELFORD': 51, 'TOWAMENCIN': 52, 'TRAPPE': 53, 'UPPER DUBLIN': 54, 'UPPER FREDERICK': 55, 'UPPER GWYNEDD': 56, 'UPPER HANOVER': 57, 'UPPER MERION': 58, 'UPPER MORELAND': 59, 'UPPER POTTSGROVE': 60, 'UPPER PROVIDENCE': 61, 'UPPER SALFORD': 62, 'WEST CONSHOHOCKEN': 63, 'WEST NORRITON': 64, 'WEST POTTSGROVE': 65, 'WHITEMARSH': 66, 'WHITPAIN': 67, 'WORCESTER': 68}\n"
          ]
        }
      ]
    },
    {
      "cell_type": "code",
      "metadata": {
        "id": "Z25PGhf7zmRj"
      },
      "source": [
        "# conn = create_connection('911data.db')\n",
        "# l2 = []\n",
        "# # time_details = {range(5,12):('Morning',5,11),range(12,17):('Afetrnoon',12,16),range(17,21):('Evening',17,20),range(21,4,-1):('Night',21,4)}\n",
        "# with open('911.csv','r') as f1:\n",
        "#     for i in f1:\n",
        "#         if i.split(',')[4] != 'title':\n",
        "#             d = i.split(',')[4].strip()\n",
        "#             if d == '':\n",
        "#                 d = ('No_info','No_info')\n",
        "#             if (d.split(':')[0].strip(),d.split(':')[1].strip()) not in l2:\n",
        "#                 l2.append((d.split(':')[0].strip(),d.split(':')[1].strip()))\n",
        "# f1.close()\n",
        "# # sort_func = lambda s: s[1]\n",
        "# # l1 = sorted(l,key = sort_func)\n",
        "# l2.sort()\n",
        "# print(l2[0:20])\n",
        "# # conn = create_connection(normalized_database_filename)\n",
        "# with conn:\n",
        "#     create_query = 'CREATE TABLE IF NOT EXISTS TypeOfIncident (TypeOfIncidentID Integer NOT NULL PRIMARY KEY, Category text NOT NULL, SubCategory text NOT NULL);'\n",
        "#     create_table(conn, create_query, drop_table_name='TypeOfIncident')\n",
        "#     insert_query = \"INSERT INTO TypeOfIncident (Category,SubCategory) VALUES (?,?)\"\n",
        "#     cur_region = conn.cursor()\n",
        "#     cur_region.executemany(insert_query,l2)\n",
        "# r = execute_sql_statement('SELECT * FROM TypeOfIncident',conn)\n",
        "# print(r)\n",
        "# conn.commit()\n",
        "# conn.close()"
      ],
      "execution_count": null,
      "outputs": []
    },
    {
      "cell_type": "code",
      "metadata": {
        "colab": {
          "base_uri": "https://localhost:8080/"
        },
        "id": "85c1nrP1ykvB",
        "outputId": "cdd7c0bd-d81c-4635-95c6-9358e7d0a0f1"
      },
      "source": [
        "#Incident Category Alternate design\n",
        "conn = create_connection('911data.db')\n",
        "cat_list = []\n",
        "# time_details = {range(5,12):('Morning',5,11),range(12,17):('Afetrnoon',12,16),range(17,21):('Evening',17,20),range(21,4,-1):('Night',21,4)}\n",
        "with open('911.csv','r') as f1:\n",
        "    for i in f1:\n",
        "        if i.split(',')[4] != 'title':\n",
        "            d = i.split(',')[4].strip()\n",
        "            if d == '':\n",
        "                d = ('No_info','No_info')\n",
        "            if (d.split(':')[0].strip(),) not in cat_list:\n",
        "                cat_list.append((d.split(':')[0].strip(),))\n",
        "f1.close()\n",
        "sort_func = lambda s: s[0]\n",
        "cat_list = sorted(cat_list,key = sort_func)\n",
        "\n",
        "print(cat_list)\n",
        "# conn = create_connection(normalized_database_filename)\n",
        "with conn:\n",
        "    create_query = '''\n",
        "    CREATE TABLE IF NOT EXISTS IncidentCategory \n",
        "    (CategoryID Integer NOT NULL PRIMARY KEY AUTOINCREMENT, \n",
        "    Category text NOT NULL);'''\n",
        "    create_table(conn, create_query, drop_table_name='IncidentCategory')\n",
        "    insert_query = \"INSERT INTO IncidentCategory (Category) VALUES (?)\"\n",
        "    cur_region = conn.cursor()\n",
        "    cur_region.executemany(insert_query,cat_list)\n",
        "r = execute_sql_statement('SELECT * FROM IncidentCategory',conn)\n",
        "print(r)\n",
        "conn.commit()\n",
        "conn.close()"
      ],
      "execution_count": null,
      "outputs": [
        {
          "output_type": "stream",
          "name": "stdout",
          "text": [
            "[('EMS',), ('Fire',), ('Traffic',)]\n",
            "[(1, 'EMS'), (2, 'Fire'), (3, 'Traffic')]\n"
          ]
        }
      ]
    },
    {
      "cell_type": "code",
      "metadata": {
        "id": "U7nCII9Vb0a5"
      },
      "source": [
        ""
      ],
      "execution_count": null,
      "outputs": []
    },
    {
      "cell_type": "markdown",
      "metadata": {
        "id": "ZIKwDfzT0rRu"
      },
      "source": [
        "Incident Category Dictionary"
      ]
    },
    {
      "cell_type": "code",
      "metadata": {
        "colab": {
          "base_uri": "https://localhost:8080/"
        },
        "id": "WaFsxpdL0vqd",
        "outputId": "4c9af931-86a1-4856-8e9b-19029a687ed8"
      },
      "source": [
        "cat_dict = {}\n",
        "conn = create_connection('911data.db')\n",
        "sql_statement = \"Select * from IncidentCategory\"\n",
        "df = execute_sql_statement(sql_statement,conn)\n",
        "for row in df:\n",
        "    cat_dict[row[1]] = row[0];\n",
        "print(cat_dict)\n",
        "conn.close()"
      ],
      "execution_count": null,
      "outputs": [
        {
          "output_type": "stream",
          "name": "stdout",
          "text": [
            "{'EMS': 1, 'Fire': 2, 'Traffic': 3}\n"
          ]
        }
      ]
    },
    {
      "cell_type": "markdown",
      "metadata": {
        "id": "z6IWBqzF2SCN"
      },
      "source": [
        "Incident Sub category"
      ]
    },
    {
      "cell_type": "code",
      "metadata": {
        "colab": {
          "base_uri": "https://localhost:8080/",
          "height": 72
        },
        "id": "kdJRJelb2VlE",
        "outputId": "957fe07a-76d9-4a9f-a73e-ad9d2607b37f"
      },
      "source": [
        "#Incident sub category Alternate design\n",
        "conn = create_connection('911data.db')\n",
        "subcat_list = []\n",
        "\n",
        "with open('911.csv','r') as f1:\n",
        "    for i in f1:\n",
        "        cat_id = 0\n",
        "        if i.split(',')[4] != 'title':\n",
        "            d = i.split(',')[4].strip()\n",
        "            if d == '':\n",
        "                d = (0,'No_info')\n",
        "            cat_id = cat_dict[d.split(':')[0].strip()];    \n",
        "            if (cat_id,d.split(':')[1].strip()) not in subcat_list:\n",
        "                subcat_list.append((cat_id,d.split(':')[1].strip()))\n",
        "f1.close()\n",
        "sort_func = lambda s: s[0]\n",
        "subcat_list = sorted(subcat_list,key = sort_func)\n",
        "\n",
        "print(subcat_list)\n",
        "#conn = create_connection(normalized_database_filename)\n",
        "sql_statement = \"Select * from IncidentCategory\"\n",
        "df = execute_sql_statement(sql_statement,conn)\n",
        "display(df)\n",
        "with conn:\n",
        "    create_query = '''\n",
        "    CREATE TABLE IF NOT EXISTS IncidentSubCategory \n",
        "    (SubCategoryID Integer NOT NULL PRIMARY KEY AUTOINCREMENT, \n",
        "    CategoryID Integer NOT NULL,\n",
        "    SubCategory Text NOT NULL,\n",
        "    foreign key(CategoryID) references IncidentCategory(CategoryID));'''\n",
        "    create_table(conn, create_query, drop_table_name='IncidentSubCategory')\n",
        "    insert_query = \"INSERT INTO IncidentSubCategory (CategoryID,SubCategory) VALUES (?,?)\"\n",
        "    cur_region = conn.cursor()\n",
        "    cur_region.executemany(insert_query,subcat_list)\n",
        "r = execute_sql_statement('SELECT * FROM IncidentSubCategory',conn)\n",
        "#display(r)\n",
        "conn.commit()\n",
        "conn.close()"
      ],
      "execution_count": null,
      "outputs": [
        {
          "output_type": "stream",
          "name": "stdout",
          "text": [
            "[(1, 'BACK PAINS/INJURY'), (1, 'DIABETIC EMERGENCY'), (1, 'CARDIAC EMERGENCY'), (1, 'DIZZINESS'), (1, 'HEAD INJURY'), (1, 'NAUSEA/VOMITING'), (1, 'RESPIRATORY EMERGENCY'), (1, 'SYNCOPAL EPISODE'), (1, 'VEHICLE ACCIDENT'), (1, 'GENERAL WEAKNESS'), (1, 'UNKNOWN MEDICAL EMERGENCY'), (1, 'UNRESPONSIVE SUBJECT'), (1, 'ALTERED MENTAL STATUS'), (1, 'CVA/STROKE'), (1, 'SUBJECT IN PAIN'), (1, 'HEMORRHAGING'), (1, 'FALL VICTIM'), (1, 'ASSAULT VICTIM'), (1, 'SEIZURES'), (1, 'MEDICAL ALERT ALARM'), (1, 'ABDOMINAL PAINS'), (1, 'OVERDOSE'), (1, 'MATERNITY'), (1, 'UNCONSCIOUS SUBJECT'), (1, 'CHOKING'), (1, 'LACERATIONS'), (1, 'FEVER'), (1, 'ALLERGIC REACTION'), (1, 'FRACTURE'), (1, 'BURN VICTIM'), (1, 'RESCUE - GENERAL'), (1, 'WARRANT SERVICE'), (1, 'EMS SPECIAL SERVICE'), (1, 'FIRE SPECIAL SERVICE'), (1, 'DEHYDRATION'), (1, 'CARBON MONOXIDE DETECTOR'), (1, 'BUILDING FIRE'), (1, 'APPLIANCE FIRE'), (1, 'SHOOTING'), (1, 'POISONING'), (1, 'RESCUE - TECHNICAL'), (1, 'EYE INJURY'), (1, 'ELECTROCUTION'), (1, 'STABBING'), (1, 'AMPUTATION'), (1, 'ANIMAL BITE'), (1, 'FIRE ALARM'), (1, 'VEHICLE FIRE'), (1, 'HAZARDOUS MATERIALS INCIDENT'), (1, 'RESCUE - ELEVATOR'), (1, 'FIRE INVESTIGATION'), (1, 'UNKNOWN TYPE FIRE'), (1, 'GAS-ODOR/LEAK'), (1, 'TRANSFERRED CALL'), (1, 'TRAIN CRASH'), (1, 'RESCUE - WATER'), (1, 'S/B AT HELICOPTER LANDING'), (1, 'CARDIAC ARREST'), (1, 'PLANE CRASH'), (1, 'WOODS/FIELD FIRE'), (1, 'HEAT EXHAUSTION'), (1, 'DEBRIS/FLUIDS ON HIGHWAY'), (1, 'ACTIVE SHOOTER'), (1, 'DISABLED VEHICLE'), (1, 'BOMB DEVICE FOUND'), (1, 'INDUSTRIAL ACCIDENT'), (1, 'DROWNING'), (1, 'SUSPICIOUS'), (1, 'ARMED SUBJECT'), (1, 'STANDBY FOR ANOTHER CO'), (1, 'ELECTRICAL FIRE OUTSIDE'), (1, 'HIT + RUN'), (1, 'SUICIDE THREAT'), (1, 'FIRE POLICE NEEDED'), (1, 'TRASH/DUMPSTER FIRE'), (1, 'BOMB THREAT'), (1, 'ELEVATOR EMERGENCY'), (1, 'PUBLIC SERVICE'), (1, 'VEHICLE LEAKING FUEL'), (1, 'POLICE INFORMATION'), (1, 'BARRICADED SUBJECT'), (2, 'GAS-ODOR/LEAK'), (2, 'APPLIANCE FIRE'), (2, 'CARBON MONOXIDE DETECTOR'), (2, 'VEHICLE ACCIDENT'), (2, 'FIRE ALARM'), (2, 'PUMP DETAIL'), (2, 'FIRE INVESTIGATION'), (2, 'TRASH/DUMPSTER FIRE'), (2, 'UNKNOWN TYPE FIRE'), (2, 'BUILDING FIRE'), (2, 'ELECTRICAL FIRE OUTSIDE'), (2, 'DEBRIS/FLUIDS ON HIGHWAY'), (2, 'BURN VICTIM'), (2, 'RESCUE - GENERAL'), (2, 'WOODS/FIELD FIRE'), (2, 'FIRE SPECIAL SERVICE'), (2, 'VEHICLE FIRE'), (2, 'S/B AT HELICOPTER LANDING'), (2, 'RESCUE - ELEVATOR'), (2, 'TRANSFERRED CALL'), (2, 'RESCUE - TECHNICAL'), (2, 'VEHICLE LEAKING FUEL'), (2, 'FIRE POLICE NEEDED'), (2, 'MEDICAL ALERT ALARM'), (2, 'TRAIN CRASH'), (2, 'HAZARDOUS MATERIALS INCIDENT'), (2, 'UNKNOWN MEDICAL EMERGENCY'), (2, 'RESCUE - WATER'), (2, 'PLANE CRASH'), (2, 'CARDIAC ARREST'), (2, 'EMS SPECIAL SERVICE'), (2, 'UNCONSCIOUS SUBJECT'), (2, 'POLICE INFORMATION'), (2, 'DIABETIC EMERGENCY'), (2, 'SYNCOPAL EPISODE'), (2, 'FALL VICTIM'), (2, 'CARDIAC EMERGENCY'), (2, 'UNRESPONSIVE SUBJECT'), (2, 'DISABLED VEHICLE'), (2, 'ANIMAL COMPLAINT'), (2, 'STANDBY FOR ANOTHER CO'), (2, 'PRISONER IN CUSTODY'), (2, 'SUSPICIOUS'), (2, 'SUBJECT IN PAIN'), (2, 'RESPIRATORY EMERGENCY'), (2, 'SUICIDE ATTEMPT'), (2, 'NAUSEA/VOMITING'), (2, 'PUBLIC SERVICE'), (2, 'OVERDOSE'), (2, 'HEAD INJURY'), (2, 'GENERAL WEAKNESS'), (2, 'ELEVATOR EMERGENCY'), (2, 'HAZARDOUS ROAD CONDITIONS'), (2, 'POISONING'), (2, 'FOOT PATROL'), (2, 'DIZZINESS'), (2, 'ROAD OBSTRUCTION'), (2, 'HEMORRHAGING'), (2, 'CVA/STROKE'), (2, 'BARRICADED SUBJECT'), (3, 'VEHICLE ACCIDENT -'), (3, 'DISABLED VEHICLE -'), (3, 'ROAD OBSTRUCTION -'), (3, 'DEBRIS/FLUIDS ON HIGHWAY -'), (3, 'VEHICLE LEAKING FUEL -'), (3, 'VEHICLE FIRE -'), (3, 'HAZARDOUS ROAD CONDITIONS -')]\n"
          ]
        },
        {
          "output_type": "display_data",
          "data": {
            "text/plain": [
              "[(1, 'EMS'), (2, 'Fire'), (3, 'Traffic')]"
            ]
          },
          "metadata": {}
        }
      ]
    },
    {
      "cell_type": "markdown",
      "metadata": {
        "id": "HKNWQIEF6GC9"
      },
      "source": [
        "Incident Sub category Dictionary"
      ]
    },
    {
      "cell_type": "code",
      "metadata": {
        "id": "3acc95S66JW6"
      },
      "source": [
        "subcat_dict = {}\n",
        "conn = create_connection('911data.db')\n",
        "sql_statement = \"Select * from IncidentSubCategory\"\n",
        "df = execute_sql_statement(sql_statement,conn)\n",
        "for row in df:\n",
        "    subcat_dict[row[2]] = row[0];\n",
        "conn.close()"
      ],
      "execution_count": null,
      "outputs": []
    },
    {
      "cell_type": "markdown",
      "metadata": {
        "id": "soV5U9_W8BMB"
      },
      "source": [
        "Call Record Table "
      ]
    },
    {
      "cell_type": "code",
      "metadata": {
        "id": "gmMoBICr2JgK",
        "colab": {
          "base_uri": "https://localhost:8080/"
        },
        "outputId": "7ba5a90d-468e-4de7-b32c-98e70defe48c"
      },
      "source": [
        "conn = create_connection('911data.db')\n",
        "record_list = []\n",
        "with open('911.csv','r') as f1:\n",
        "    for i in f1:\n",
        "      record_ele = []\n",
        "      if i.split(',')[0] != 'lat':\n",
        "          d = i.split(',')[0].strip()\n",
        "          if d == '':\n",
        "            record_ele.append(None)\n",
        "          else:\n",
        "            record_ele.append(d) #lat\n",
        "      if i.split(',')[1] != 'lng':\n",
        "          d = i.split(',')[6].strip()\n",
        "          if d == '':\n",
        "            record_ele.append(None)\n",
        "          else:\n",
        "            record_ele.append(d) #lng          \n",
        "      if i.split(',')[4] != 'title':\n",
        "          d = i.split(',')[4].strip()\n",
        "          if d == '':\n",
        "            record_ele.append(None)\n",
        "            record_ele.append(None)\n",
        "          else:\n",
        "            record_ele.append( cat_dict[d.split(':')[0].strip()] ) #Category ID\n",
        "            record_ele.append( subcat_dict[d.split(':')[1].strip()] ) #Sub Category ID\n",
        "      if i.split(',')[2] != 'desc':\n",
        "          d = i.split(',')[2].strip()\n",
        "          if d == '':\n",
        "              d = 'No_info'\n",
        "          record_ele.append( d ) #Description\n",
        "      if i.split(',')[3] != 'zip':\n",
        "          d = i.split(',')[3].strip()\n",
        "          if d == '':\n",
        "              d = None\n",
        "          record_ele.append( d ) #Zip               \n",
        "      if i.split(',')[6] != 'twp':\n",
        "          d = i.split(',')[6].strip()\n",
        "          if d == '':\n",
        "            d = None\n",
        "          else:\n",
        "            d = twp_dict[d]\n",
        "          record_ele.append(d)  #Twp\n",
        "      if i.split(',')[7] != 'addr':\n",
        "          d = i.split(',')[7].strip()\n",
        "          if d == '':\n",
        "            d = 'No_info'\n",
        "          record_ele.append(d)  #Address   \n",
        "      if i.split(',')[5] != 'timeStamp':\n",
        "          d = i.split(',')[5]\n",
        "          if d == '':\n",
        "            record_ele.append(None)\n",
        "            record_ele.append(None)\n",
        "          else:\n",
        "            record_ele.append(d.strip().split(' ')[0]) #Date\n",
        "            for k in time_details.keys():\n",
        "              if int(d.strip().split(' ')[1].split(':')[0]) in k: \n",
        "                record_ele.append(tod_dict[ time_details[k][0] ] ) #time of day\n",
        "      record_list.append(tuple(record_ele))\n",
        "record_list = record_list[1:]  \n",
        "print(len(record_list))\n",
        "f1.close()\n",
        "\n",
        "with conn:\n",
        "    create_query =\"\"\"\n",
        "    CREATE TABLE IF NOT EXISTS CallRecord (\n",
        "      [RecordID] integer not null Primary Key AUTOINCREMENT,\n",
        "      [latitude] real null,\n",
        "      [longitude] real null,\n",
        "      [CategoryID] integer not null,\n",
        "      [SubCategoryID] integer not null,\n",
        "      [Desc] Text not null,\n",
        "      [Zip] integer null,\n",
        "      [TownshipID] integer null,\n",
        "      [Address] Text null,\n",
        "      [Date] Date null ,\n",
        "      [TimeOfDayID] integer null,\n",
        "      FOREIGN KEY(CategoryID) REFERENCES IncidentCategory(CategoryID),\n",
        "      FOREIGN KEY(SubCategoryID) REFERENCES IncidentSubCategory(SubCategoryID),\n",
        "      FOREIGN KEY(TownshipID) REFERENCES Township(TownshipID),\n",
        "      FOREIGN KEY(TimeOfDayID) REFERENCES TimeOfDay(TimeOfDayID)\n",
        "    );\n",
        "    \"\"\"\n",
        "    create_table(conn, create_query, drop_table_name='CallRecord')\n",
        "    insert_query = '''INSERT INTO CallRecord (latitude,longitude,CategoryID,SubCategoryID,Desc,Zip,TownshipID,Address,Date,TimeOfDayID) \n",
        "    VALUES (?,?,?,?,?,?,?,?,?,?)'''\n",
        "    cur_region = conn.cursor()\n",
        "    dummy_list = [(1, 1, 'Add;', '19446', None, 'BRIAR PATH & WHITEMARSH LN', '2015-12-10', None)]\n",
        "    cur_region.executemany(insert_query,record_list)\n",
        "r = execute_sql_statement('SELECT count(*) FROM CallRecord',conn)\n",
        "print(r)\n",
        "conn.commit()\n",
        "conn.close()"
      ],
      "execution_count": null,
      "outputs": [
        {
          "output_type": "stream",
          "name": "stdout",
          "text": [
            "663522\n",
            "[(663522,)]\n"
          ]
        }
      ]
    },
    {
      "cell_type": "code",
      "source": [
        "conn = create_connection('911data.db')\n",
        "sql_statement = f'select T.TownshipName'\\\n",
        "f',count(*) as TotalCalls from CallRecord CR inner join Township as T on CR.TownshipID = T.TownshipID and CR.TownshipID not null'\\\n",
        "f' group by T.TownshipID order by TotalCalls desc'\n",
        "df = pd.read_sql_query(sql_statement, conn)\n",
        "ts = sum(df['TotalCalls'])\n",
        "df['Percentage'] = df['TotalCalls'].apply(lambda x:(x/ts)*100)\n",
        "df['CummulativePercentage'] = df['TotalCalls'].cumsum().apply(lambda x:(x/ts)*100)\n",
        "df1 = pd.DataFrame(df.loc[df['CummulativePercentage']<=50])\n",
        "\n",
        "df1.style.hide_index().bar(subset=[\"Percentage\"], color='#FFA07A')\n",
        "df1.style.set_table_styles(\n",
        "[{'selector': 'th',\n",
        "  'props': [('background', '#420929'), \n",
        "            ('color', 'white'),\n",
        "            ('font-family', 'verdana')]},\n",
        " {'selector': '',\n",
        "  'props': [('border', '2px solid black'), ]\n",
        "  }\n",
        " \n",
        "]\n",
        ").hide_index().background_gradient(cmap='Oranges')\n"
      ],
      "metadata": {
        "colab": {
          "base_uri": "https://localhost:8080/",
          "height": 398
        },
        "id": "XTkyi0giFzud",
        "outputId": "59a675d3-6d6c-42d8-a747-ddcf0b68e2d4"
      },
      "execution_count": 120,
      "outputs": [
        {
          "output_type": "execute_result",
          "data": {
            "text/html": [
              "<style  type=\"text/css\" >\n",
              "    #T_0cd47a62_5adb_11ec_afe2_0242ac1c0002 th {\n",
              "          background: #420929;\n",
              "          color: white;\n",
              "          font-family: verdana;\n",
              "    }    #T_0cd47a62_5adb_11ec_afe2_0242ac1c0002  {\n",
              "          border: 2px solid black;\n",
              "    }#T_0cd47a62_5adb_11ec_afe2_0242ac1c0002row0_col1,#T_0cd47a62_5adb_11ec_afe2_0242ac1c0002row0_col2,#T_0cd47a62_5adb_11ec_afe2_0242ac1c0002row10_col3{\n",
              "            background-color:  #7f2704;\n",
              "            color:  #f1f1f1;\n",
              "        }#T_0cd47a62_5adb_11ec_afe2_0242ac1c0002row0_col3,#T_0cd47a62_5adb_11ec_afe2_0242ac1c0002row10_col1,#T_0cd47a62_5adb_11ec_afe2_0242ac1c0002row10_col2{\n",
              "            background-color:  #fff5eb;\n",
              "            color:  #000000;\n",
              "        }#T_0cd47a62_5adb_11ec_afe2_0242ac1c0002row1_col1,#T_0cd47a62_5adb_11ec_afe2_0242ac1c0002row1_col2{\n",
              "            background-color:  #f57622;\n",
              "            color:  #000000;\n",
              "        }#T_0cd47a62_5adb_11ec_afe2_0242ac1c0002row1_col3{\n",
              "            background-color:  #fee2c7;\n",
              "            color:  #000000;\n",
              "        }#T_0cd47a62_5adb_11ec_afe2_0242ac1c0002row2_col1,#T_0cd47a62_5adb_11ec_afe2_0242ac1c0002row2_col2{\n",
              "            background-color:  #fb8836;\n",
              "            color:  #000000;\n",
              "        }#T_0cd47a62_5adb_11ec_afe2_0242ac1c0002row2_col3{\n",
              "            background-color:  #fdc794;\n",
              "            color:  #000000;\n",
              "        }#T_0cd47a62_5adb_11ec_afe2_0242ac1c0002row3_col1,#T_0cd47a62_5adb_11ec_afe2_0242ac1c0002row3_col2{\n",
              "            background-color:  #fd9446;\n",
              "            color:  #000000;\n",
              "        }#T_0cd47a62_5adb_11ec_afe2_0242ac1c0002row3_col3{\n",
              "            background-color:  #fda35c;\n",
              "            color:  #000000;\n",
              "        }#T_0cd47a62_5adb_11ec_afe2_0242ac1c0002row4_col1,#T_0cd47a62_5adb_11ec_afe2_0242ac1c0002row4_col2{\n",
              "            background-color:  #fdba7f;\n",
              "            color:  #000000;\n",
              "        }#T_0cd47a62_5adb_11ec_afe2_0242ac1c0002row4_col3{\n",
              "            background-color:  #fb8634;\n",
              "            color:  #000000;\n",
              "        }#T_0cd47a62_5adb_11ec_afe2_0242ac1c0002row5_col1,#T_0cd47a62_5adb_11ec_afe2_0242ac1c0002row5_col2{\n",
              "            background-color:  #fdd1a4;\n",
              "            color:  #000000;\n",
              "        }#T_0cd47a62_5adb_11ec_afe2_0242ac1c0002row5_col3{\n",
              "            background-color:  #f16813;\n",
              "            color:  #000000;\n",
              "        }#T_0cd47a62_5adb_11ec_afe2_0242ac1c0002row6_col1,#T_0cd47a62_5adb_11ec_afe2_0242ac1c0002row6_col2{\n",
              "            background-color:  #fee6cf;\n",
              "            color:  #000000;\n",
              "        }#T_0cd47a62_5adb_11ec_afe2_0242ac1c0002row6_col3{\n",
              "            background-color:  #e15307;\n",
              "            color:  #000000;\n",
              "        }#T_0cd47a62_5adb_11ec_afe2_0242ac1c0002row7_col1,#T_0cd47a62_5adb_11ec_afe2_0242ac1c0002row7_col2{\n",
              "            background-color:  #fee8d2;\n",
              "            color:  #000000;\n",
              "        }#T_0cd47a62_5adb_11ec_afe2_0242ac1c0002row7_col3{\n",
              "            background-color:  #c84202;\n",
              "            color:  #f1f1f1;\n",
              "        }#T_0cd47a62_5adb_11ec_afe2_0242ac1c0002row8_col1,#T_0cd47a62_5adb_11ec_afe2_0242ac1c0002row8_col2{\n",
              "            background-color:  #fff0e1;\n",
              "            color:  #000000;\n",
              "        }#T_0cd47a62_5adb_11ec_afe2_0242ac1c0002row8_col3{\n",
              "            background-color:  #a93703;\n",
              "            color:  #f1f1f1;\n",
              "        }#T_0cd47a62_5adb_11ec_afe2_0242ac1c0002row9_col1,#T_0cd47a62_5adb_11ec_afe2_0242ac1c0002row9_col2{\n",
              "            background-color:  #fff4e8;\n",
              "            color:  #000000;\n",
              "        }#T_0cd47a62_5adb_11ec_afe2_0242ac1c0002row9_col3{\n",
              "            background-color:  #942f03;\n",
              "            color:  #f1f1f1;\n",
              "        }</style><table id=\"T_0cd47a62_5adb_11ec_afe2_0242ac1c0002\" class=\"dataframe\"><thead>    <tr>        <th class=\"col_heading level0 col0\" >TownshipName</th>        <th class=\"col_heading level0 col1\" >TotalCalls</th>        <th class=\"col_heading level0 col2\" >Percentage</th>        <th class=\"col_heading level0 col3\" >CummulativePercentage</th>    </tr></thead><tbody>\n",
              "                <tr>\n",
              "                                <td id=\"T_0cd47a62_5adb_11ec_afe2_0242ac1c0002row0_col0\" class=\"data row0 col0\" >LOWER MERION</td>\n",
              "                        <td id=\"T_0cd47a62_5adb_11ec_afe2_0242ac1c0002row0_col1\" class=\"data row0 col1\" >55490</td>\n",
              "                        <td id=\"T_0cd47a62_5adb_11ec_afe2_0242ac1c0002row0_col2\" class=\"data row0 col2\" >8.366643</td>\n",
              "                        <td id=\"T_0cd47a62_5adb_11ec_afe2_0242ac1c0002row0_col3\" class=\"data row0 col3\" >8.366643</td>\n",
              "            </tr>\n",
              "            <tr>\n",
              "                                <td id=\"T_0cd47a62_5adb_11ec_afe2_0242ac1c0002row1_col0\" class=\"data row1 col0\" >ABINGTON</td>\n",
              "                        <td id=\"T_0cd47a62_5adb_11ec_afe2_0242ac1c0002row1_col1\" class=\"data row1 col1\" >39947</td>\n",
              "                        <td id=\"T_0cd47a62_5adb_11ec_afe2_0242ac1c0002row1_col2\" class=\"data row1 col2\" >6.023108</td>\n",
              "                        <td id=\"T_0cd47a62_5adb_11ec_afe2_0242ac1c0002row1_col3\" class=\"data row1 col3\" >14.389751</td>\n",
              "            </tr>\n",
              "            <tr>\n",
              "                                <td id=\"T_0cd47a62_5adb_11ec_afe2_0242ac1c0002row2_col0\" class=\"data row2 col0\" >NORRISTOWN</td>\n",
              "                        <td id=\"T_0cd47a62_5adb_11ec_afe2_0242ac1c0002row2_col1\" class=\"data row2 col1\" >37633</td>\n",
              "                        <td id=\"T_0cd47a62_5adb_11ec_afe2_0242ac1c0002row2_col2\" class=\"data row2 col2\" >5.674209</td>\n",
              "                        <td id=\"T_0cd47a62_5adb_11ec_afe2_0242ac1c0002row2_col3\" class=\"data row2 col3\" >20.063960</td>\n",
              "            </tr>\n",
              "            <tr>\n",
              "                                <td id=\"T_0cd47a62_5adb_11ec_afe2_0242ac1c0002row3_col0\" class=\"data row3 col0\" >UPPER MERION</td>\n",
              "                        <td id=\"T_0cd47a62_5adb_11ec_afe2_0242ac1c0002row3_col1\" class=\"data row3 col1\" >36010</td>\n",
              "                        <td id=\"T_0cd47a62_5adb_11ec_afe2_0242ac1c0002row3_col2\" class=\"data row3 col2\" >5.429497</td>\n",
              "                        <td id=\"T_0cd47a62_5adb_11ec_afe2_0242ac1c0002row3_col3\" class=\"data row3 col3\" >25.493457</td>\n",
              "            </tr>\n",
              "            <tr>\n",
              "                                <td id=\"T_0cd47a62_5adb_11ec_afe2_0242ac1c0002row4_col0\" class=\"data row4 col0\" >CHELTENHAM</td>\n",
              "                        <td id=\"T_0cd47a62_5adb_11ec_afe2_0242ac1c0002row4_col1\" class=\"data row4 col1\" >30574</td>\n",
              "                        <td id=\"T_0cd47a62_5adb_11ec_afe2_0242ac1c0002row4_col2\" class=\"data row4 col2\" >4.609871</td>\n",
              "                        <td id=\"T_0cd47a62_5adb_11ec_afe2_0242ac1c0002row4_col3\" class=\"data row4 col3\" >30.103328</td>\n",
              "            </tr>\n",
              "            <tr>\n",
              "                                <td id=\"T_0cd47a62_5adb_11ec_afe2_0242ac1c0002row5_col0\" class=\"data row5 col0\" >POTTSTOWN</td>\n",
              "                        <td id=\"T_0cd47a62_5adb_11ec_afe2_0242ac1c0002row5_col1\" class=\"data row5 col1\" >27387</td>\n",
              "                        <td id=\"T_0cd47a62_5adb_11ec_afe2_0242ac1c0002row5_col2\" class=\"data row5 col2\" >4.129343</td>\n",
              "                        <td id=\"T_0cd47a62_5adb_11ec_afe2_0242ac1c0002row5_col3\" class=\"data row5 col3\" >34.232671</td>\n",
              "            </tr>\n",
              "            <tr>\n",
              "                                <td id=\"T_0cd47a62_5adb_11ec_afe2_0242ac1c0002row6_col0\" class=\"data row6 col0\" >UPPER MORELAND</td>\n",
              "                        <td id=\"T_0cd47a62_5adb_11ec_afe2_0242ac1c0002row6_col1\" class=\"data row6 col1\" >22932</td>\n",
              "                        <td id=\"T_0cd47a62_5adb_11ec_afe2_0242ac1c0002row6_col2\" class=\"data row6 col2\" >3.457629</td>\n",
              "                        <td id=\"T_0cd47a62_5adb_11ec_afe2_0242ac1c0002row6_col3\" class=\"data row6 col3\" >37.690300</td>\n",
              "            </tr>\n",
              "            <tr>\n",
              "                                <td id=\"T_0cd47a62_5adb_11ec_afe2_0242ac1c0002row7_col0\" class=\"data row7 col0\" >LOWER PROVIDENCE</td>\n",
              "                        <td id=\"T_0cd47a62_5adb_11ec_afe2_0242ac1c0002row7_col1\" class=\"data row7 col1\" >22476</td>\n",
              "                        <td id=\"T_0cd47a62_5adb_11ec_afe2_0242ac1c0002row7_col2\" class=\"data row7 col2\" >3.388875</td>\n",
              "                        <td id=\"T_0cd47a62_5adb_11ec_afe2_0242ac1c0002row7_col3\" class=\"data row7 col3\" >41.079175</td>\n",
              "            </tr>\n",
              "            <tr>\n",
              "                                <td id=\"T_0cd47a62_5adb_11ec_afe2_0242ac1c0002row8_col0\" class=\"data row8 col0\" >PLYMOUTH</td>\n",
              "                        <td id=\"T_0cd47a62_5adb_11ec_afe2_0242ac1c0002row8_col1\" class=\"data row8 col1\" >20116</td>\n",
              "                        <td id=\"T_0cd47a62_5adb_11ec_afe2_0242ac1c0002row8_col2\" class=\"data row8 col2\" >3.033040</td>\n",
              "                        <td id=\"T_0cd47a62_5adb_11ec_afe2_0242ac1c0002row8_col3\" class=\"data row8 col3\" >44.112215</td>\n",
              "            </tr>\n",
              "            <tr>\n",
              "                                <td id=\"T_0cd47a62_5adb_11ec_afe2_0242ac1c0002row9_col0\" class=\"data row9 col0\" >UPPER DUBLIN</td>\n",
              "                        <td id=\"T_0cd47a62_5adb_11ec_afe2_0242ac1c0002row9_col1\" class=\"data row9 col1\" >18862</td>\n",
              "                        <td id=\"T_0cd47a62_5adb_11ec_afe2_0242ac1c0002row9_col2\" class=\"data row9 col2\" >2.843965</td>\n",
              "                        <td id=\"T_0cd47a62_5adb_11ec_afe2_0242ac1c0002row9_col3\" class=\"data row9 col3\" >46.956180</td>\n",
              "            </tr>\n",
              "            <tr>\n",
              "                                <td id=\"T_0cd47a62_5adb_11ec_afe2_0242ac1c0002row10_col0\" class=\"data row10 col0\" >HORSHAM</td>\n",
              "                        <td id=\"T_0cd47a62_5adb_11ec_afe2_0242ac1c0002row10_col1\" class=\"data row10 col1\" >18380</td>\n",
              "                        <td id=\"T_0cd47a62_5adb_11ec_afe2_0242ac1c0002row10_col2\" class=\"data row10 col2\" >2.771290</td>\n",
              "                        <td id=\"T_0cd47a62_5adb_11ec_afe2_0242ac1c0002row10_col3\" class=\"data row10 col3\" >49.727470</td>\n",
              "            </tr>\n",
              "    </tbody></table>"
            ],
            "text/plain": [
              "<pandas.io.formats.style.Styler at 0x7f67bf93e7d0>"
            ]
          },
          "metadata": {},
          "execution_count": 120
        }
      ]
    },
    {
      "cell_type": "code",
      "source": [
        "conn = create_connection('911data.db')\n",
        "sql_statement = f'select T.TimeOfDay'\\\n",
        "f',count(*) as TotalCalls from CallRecord CR inner join TimeOfDay as T on CR.TimeOfDayID = T.TimeOfDayID and CR.TimeOfDayID not null'\\\n",
        "f' group by T.TimeOfDayID '\n",
        "df = pd.read_sql_query(sql_statement, conn)\n",
        "\n",
        "df.set_index('TimeOfDay', inplace=True)\n",
        "df.plot.pie(y='TotalCalls', legend=False,autopct = '%.0f%%',ylabel='',figsize = (10,10),textprops={'fontsize': 16})\n"
      ],
      "metadata": {
        "colab": {
          "base_uri": "https://localhost:8080/",
          "height": 592
        },
        "id": "dbrf11nlWIgd",
        "outputId": "c508d441-fbb9-495f-8a19-bdb8ef0c490e"
      },
      "execution_count": 139,
      "outputs": [
        {
          "output_type": "execute_result",
          "data": {
            "text/plain": [
              "<matplotlib.axes._subplots.AxesSubplot at 0x7f67bf028c10>"
            ]
          },
          "metadata": {},
          "execution_count": 139
        },
        {
          "output_type": "display_data",
          "data": {
            "image/png": "[encoded data removed]",
            "text/plain": [
              "<Figure size 720x720 with 1 Axes>"
            ]
          },
          "metadata": {}
        }
      ]
    },
    {
      "cell_type": "code",
      "source": [
        "conn = create_connection('911data.db')\n",
        "sql_statement = f'select strftime(\"%Y\",CR.Date) as year'\\\n",
        "f',count(*) as TotalCalls,Category from CallRecord CR inner join IncidentCategory as IC on CR.CategoryID = IC.CategoryID and CR.CategoryID not null'\\\n",
        "f' group by year,CR.categoryID '\n",
        "df = pd.read_sql_query(sql_statement, conn)\n",
        "df = pd.DataFrame(df.loc[df['year']!='2015'])\n",
        "df.set_index('year', inplace=True)\n",
        "df.groupby('Category')['TotalCalls'].plot(legend=True)\n",
        "\n",
        "\n"
      ],
      "metadata": {
        "colab": {
          "base_uri": "https://localhost:8080/",
          "height": 366
        },
        "id": "afAs7SVNaEbs",
        "outputId": "b4235fbe-8939-47c1-901a-a607a4cd0ad7"
      },
      "execution_count": 125,
      "outputs": [
        {
          "output_type": "execute_result",
          "data": {
            "text/plain": [
              "Category\n",
              "EMS        AxesSubplot(0.125,0.125;0.775x0.755)\n",
              "Fire       AxesSubplot(0.125,0.125;0.775x0.755)\n",
              "Traffic    AxesSubplot(0.125,0.125;0.775x0.755)\n",
              "Name: TotalCalls, dtype: object"
            ]
          },
          "metadata": {},
          "execution_count": 125
        },
        {
          "output_type": "display_data",
          "data": {
            "image/png": "[encoded data removed]",
            "text/plain": [
              "<Figure size 432x288 with 1 Axes>"
            ]
          },
          "metadata": {
            "needs_background": "light"
          }
        }
      ]
    },
    {
      "cell_type": "code",
      "source": [
        "conn = create_connection('911data.db')\n",
        "sql_statement = f'select strftime(\"%Y\",CR.Date) as year'\\\n",
        "f',count(*) as TotalCalls,Category from CallRecord CR inner join IncidentCategory as IC on CR.CategoryID = IC.CategoryID and CR.CategoryID not null'\\\n",
        "f' group by year,CR.categoryID '\n",
        "df = pd.read_sql_query(sql_statement, conn)\n",
        "df = pd.DataFrame(df.loc[df['year']!='2015'])\n",
        "pivot_df = df.pivot(index='year', columns='Category', values='TotalCalls')\n",
        "colors = [\"#45ADA8\", \"#9DE0AD\",\"#E5FCC2\"]\n",
        "pivot_df.loc[:,['EMS','Fire', 'Traffic']].plot.bar(stacked=True, color=colors, figsize=(10,7))"
      ],
      "metadata": {
        "colab": {
          "base_uri": "https://localhost:8080/",
          "height": 475
        },
        "id": "fm4m4WIRpylI",
        "outputId": "f9083eec-c4ae-4e15-9465-0e2b86da5b63"
      },
      "execution_count": 135,
      "outputs": [
        {
          "output_type": "execute_result",
          "data": {
            "text/plain": [
              "<matplotlib.axes._subplots.AxesSubplot at 0x7f67c0ccc410>"
            ]
          },
          "metadata": {},
          "execution_count": 135
        },
        {
          "output_type": "display_data",
          "data": {
            "image/png": "[encoded data removed]",
            "text/plain": [
              "<Figure size 720x504 with 1 Axes>"
            ]
          },
          "metadata": {
            "needs_background": "light"
          }
        }
      ]
    }
  ]
}